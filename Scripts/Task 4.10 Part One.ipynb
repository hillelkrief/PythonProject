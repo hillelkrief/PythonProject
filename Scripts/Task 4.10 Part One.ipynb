{
 "cells": [
  {
   "cell_type": "code",
   "execution_count": null,
   "id": "a7affafe",
   "metadata": {},
   "outputs": [],
   "source": [
    "#Table of contents\n",
    "#This includes data profiling, changing data types, wrangling, preforming consistency checks, merginng data, defining new variables, grouping, and visualizations"
   ]
  },
  {
   "cell_type": "code",
   "execution_count": 1,
   "id": "84dee114",
   "metadata": {},
   "outputs": [],
   "source": [
    "#Import programs\n",
    "import pandas as pd\n",
    "import numpy as np\n",
    "import os\n",
    "import matplotlib.pyplot as plt\n",
    "import seaborn as sns\n",
    "import scipy"
   ]
  },
  {
   "cell_type": "code",
   "execution_count": 2,
   "id": "8b59ff99",
   "metadata": {},
   "outputs": [],
   "source": [
    "insta_data=pd.read_pickle(r'/Users/hillelkrief1/Desktop/CareerFoundry/Course 2 Data Immersion/Achievement 4/Instacart Basket Analysis 08-2022/02 Data/Prepared Data/ords_prods_grouped.pkl')"
   ]
  },
  {
   "cell_type": "code",
   "execution_count": 3,
   "id": "59966517",
   "metadata": {},
   "outputs": [],
   "source": [
    "#addressing PII, we will take a brief look at the data to see if there is any PII info we need to inquire about\n",
    "insta_data_head=insta_data.head()"
   ]
  },
  {
   "cell_type": "code",
   "execution_count": 4,
   "id": "58fc03e5",
   "metadata": {},
   "outputs": [
    {
     "data": {
      "text/plain": [
       "Index(['order_id', 'product_id', 'add_to_cart_order', 'reordered', 'user_id',\n",
       "       'eval_set', 'order_number', 'order_dow', 'order_hour_of_day',\n",
       "       'days_since_prior_order', '_merge', 'aisle_id', 'department_id',\n",
       "       'prices', 'gender', 'state', 'age', 'date_joined', 'children',\n",
       "       'f_status', 'income', 'merge_flag_cust', 'max_order', 'loyalty_flag',\n",
       "       'mean_orders', 'spender_flag', 'median_orders', 'frequency_flag'],\n",
       "      dtype='object')"
      ]
     },
     "execution_count": 4,
     "metadata": {},
     "output_type": "execute_result"
    }
   ],
   "source": [
    "insta_data.columns"
   ]
  },
  {
   "cell_type": "code",
   "execution_count": 5,
   "id": "83f2a89b",
   "metadata": {},
   "outputs": [],
   "source": [
    "#It does list the customers gender, age, n_depdendents, and marital status but that can't identify anyone so we do not have a PII issue here"
   ]
  },
  {
   "cell_type": "code",
   "execution_count": 6,
   "id": "dc284904",
   "metadata": {},
   "outputs": [],
   "source": [
    "#Now we will split each state into one of four regions\n"
   ]
  },
  {
   "cell_type": "code",
   "execution_count": 7,
   "id": "2dba6704",
   "metadata": {},
   "outputs": [],
   "source": [
    "insta_data.loc[(insta_data['state'] == 'Maine') | (insta_data['state'] == 'New Hampshire') | (insta_data['state'] == 'Vermont') | (insta_data['state'] == 'Massachusetts') | (insta_data['state'] == 'Rhode Island') | (insta_data['state'] == 'Connecticut') | (insta_data['state'] == 'New York') | (insta_data['state'] == 'Pennsylvania') | (insta_data['state'] == 'New Jersey'), 'region'] = 'Region One'\n",
    "\n"
   ]
  },
  {
   "cell_type": "code",
   "execution_count": 8,
   "id": "be70b48c",
   "metadata": {},
   "outputs": [],
   "source": [
    "insta_data.loc[(insta_data['state'] == 'Wisconsin') | (insta_data['state'] == 'Michigan') | (insta_data['state'] == 'Illinois') | (insta_data['state'] == 'Indiana') | (insta_data['state'] == 'Ohio') | (insta_data['state'] == 'North Dakota') | (insta_data['state'] == 'South Dakota') | (insta_data['state'] == 'Nebraska') | (insta_data['state'] == 'Kansas')|(insta_data['state'] == 'Minnesota') | (insta_data['state'] == 'Iowa') | (insta_data['state'] == 'Missouri') , 'region'] = 'Region Two'\n",
    "\n"
   ]
  },
  {
   "cell_type": "code",
   "execution_count": 9,
   "id": "d08ad6a0",
   "metadata": {},
   "outputs": [],
   "source": [
    "insta_data.loc[(insta_data['state'] == 'Delaware') | (insta_data['state'] == 'Maryland') | (insta_data['state'] == 'District of Columbia') | (insta_data['state'] == 'Virginia') | (insta_data['state'] == 'West Virginia') | (insta_data['state'] == 'North Carolina') | (insta_data['state'] == 'South Carolina') | (insta_data['state'] == 'Georgia') | (insta_data['state'] == 'Florida')|(insta_data['state'] == 'Kentucky') | (insta_data['state'] == 'Tennessee') | (insta_data['state'] == 'Mississippi') |(insta_data['state'] == 'Alabama') |(insta_data['state'] == 'Oklahoma') | (insta_data['state'] == 'Texas') | (insta_data['state'] == 'Arkansas') | (insta_data['state'] == 'Louisiana')  , 'region'] = 'Region Three'\n",
    "\n"
   ]
  },
  {
   "cell_type": "code",
   "execution_count": 10,
   "id": "72760366",
   "metadata": {},
   "outputs": [],
   "source": [
    "insta_data.loc[(insta_data['state'] == 'Idaho') | (insta_data['state'] == 'Montana') | (insta_data['state'] == 'Wyoming') | (insta_data['state'] == 'Nevada') | (insta_data['state'] == 'Utah') | (insta_data['state'] == 'Colorado') | (insta_data['state'] == 'Arizona') | (insta_data['state'] == 'New Mexico') | (insta_data['state'] == 'Alaska')|(insta_data['state'] == 'Washington') | (insta_data['state'] == 'Oregon') | (insta_data['state'] == 'California') |(insta_data['state'] == 'Hawaii') , 'region'] = 'Region Four'\n",
    "\n"
   ]
  },
  {
   "cell_type": "code",
   "execution_count": 11,
   "id": "accd9049",
   "metadata": {},
   "outputs": [
    {
     "data": {
      "text/plain": [
       "Region Three    10791885\n",
       "Region Four      8292913\n",
       "Region Two       7597325\n",
       "Region One       5722736\n",
       "Name: region, dtype: int64"
      ]
     },
     "execution_count": 11,
     "metadata": {},
     "output_type": "execute_result"
    }
   ],
   "source": [
    "insta_data['region'].value_counts(dropna=False)"
   ]
  },
  {
   "cell_type": "code",
   "execution_count": 12,
   "id": "3f1ddc39",
   "metadata": {},
   "outputs": [],
   "source": [
    "#The next step will be to see if there is a difference in spending habits between the two regions:"
   ]
  },
  {
   "cell_type": "code",
   "execution_count": 24,
   "id": "2cb821c3",
   "metadata": {},
   "outputs": [
    {
     "data": {
      "text/plain": [
       "High Spender    31771245\n",
       "Low Spender       574311\n",
       "NaN                59303\n",
       "Name: spender_flag, dtype: int64"
      ]
     },
     "execution_count": 24,
     "metadata": {},
     "output_type": "execute_result"
    }
   ],
   "source": [
    "insta_data['spender_flag'].value_counts(dropna=False)"
   ]
  },
  {
   "cell_type": "code",
   "execution_count": 14,
   "id": "371c32ce",
   "metadata": {},
   "outputs": [
    {
     "data": {
      "text/plain": [
       "8.015625     159661\n",
       "8.031250     157777\n",
       "8.054688     156556\n",
       "8.125000     155909\n",
       "8.093750     155617\n",
       "              ...  \n",
       "20.000000         3\n",
       "23.203125         3\n",
       "2.333984          3\n",
       "2.933594          3\n",
       "12.703125         3\n",
       "Name: mean_orders, Length: 3628, dtype: int64"
      ]
     },
     "execution_count": 14,
     "metadata": {},
     "output_type": "execute_result"
    }
   ],
   "source": [
    "insta_data['mean_orders'].value_counts(dropna=False)"
   ]
  },
  {
   "cell_type": "code",
   "execution_count": 17,
   "id": "e1d813f4",
   "metadata": {},
   "outputs": [],
   "source": [
    "prices_col=insta_data['prices']"
   ]
  },
  {
   "cell_type": "code",
   "execution_count": 20,
   "id": "a95b1fbf",
   "metadata": {},
   "outputs": [
    {
     "data": {
      "text/plain": [
       "0    11.296875\n",
       "1    11.296875\n",
       "2    11.296875\n",
       "3    11.296875\n",
       "4    11.296875\n",
       "Name: prices, dtype: float16"
      ]
     },
     "execution_count": 20,
     "metadata": {},
     "output_type": "execute_result"
    }
   ],
   "source": [
    "prices_col.head()"
   ]
  },
  {
   "cell_type": "code",
   "execution_count": 22,
   "id": "4ff0556c",
   "metadata": {},
   "outputs": [],
   "source": [
    "prices_col.to_csv(r'/Users/hillelkrief1/Desktop/CareerFoundry/Course 2 Data Immersion/Achievement 4/Instacart Basket Analysis 08-2022/02 Data/Prepared Data/prices_col.csv',index=False)\n",
    "                                   \n",
    "                                   "
   ]
  },
  {
   "cell_type": "code",
   "execution_count": 23,
   "id": "6132c849",
   "metadata": {},
   "outputs": [],
   "source": [
    "insta_data['prices'] = insta_data['prices'].astype('float64')"
   ]
  },
  {
   "cell_type": "code",
   "execution_count": 26,
   "id": "7b367d8e",
   "metadata": {},
   "outputs": [],
   "source": [
    "insta_data.loc[insta_data['mean_orders'] > 10, 'spender_flag'] = 'Low Spender'\n",
    "insta_data.loc[insta_data['mean_orders'] <= 10,'spender_flag'] = 'High Spender'\n"
   ]
  },
  {
   "cell_type": "code",
   "execution_count": 27,
   "id": "e36869ea",
   "metadata": {},
   "outputs": [
    {
     "data": {
      "text/plain": [
       "High Spender    31771245\n",
       "Low Spender       574311\n",
       "NaN                59303\n",
       "Name: spender_flag, dtype: int64"
      ]
     },
     "execution_count": 27,
     "metadata": {},
     "output_type": "execute_result"
    }
   ],
   "source": [
    "insta_data['spender_flag'].value_counts(dropna=False)"
   ]
  },
  {
   "cell_type": "code",
   "execution_count": 29,
   "id": "adcd28f2",
   "metadata": {
    "scrolled": true
   },
   "outputs": [
    {
     "data": {
      "text/plain": [
       "1.000000e+00    115143\n",
       "1.099609e+00    242782\n",
       "1.200195e+00    256258\n",
       "1.299805e+00    425691\n",
       "1.400391e+00    392209\n",
       "                 ...  \n",
       "2.479688e+01       410\n",
       "2.490625e+01      5781\n",
       "2.500000e+01     13772\n",
       "1.489600e+04      4429\n",
       "inf                698\n",
       "Name: prices, Length: 242, dtype: int64"
      ]
     },
     "execution_count": 29,
     "metadata": {},
     "output_type": "execute_result"
    }
   ],
   "source": [
    "insta_data['prices'].value_counts().sort_index()"
   ]
  },
  {
   "cell_type": "code",
   "execution_count": 35,
   "id": "2573ac85",
   "metadata": {},
   "outputs": [],
   "source": [
    "\n",
    "\n",
    "insta_data['prices']= insta_data['prices'].replace([np.inf, -np.inf], \"NaN\")"
   ]
  },
  {
   "cell_type": "code",
   "execution_count": 38,
   "id": "afd945b2",
   "metadata": {},
   "outputs": [
    {
     "data": {
      "text/plain": [
       "1.000000        115143\n",
       "1.099609        242782\n",
       "1.200195        256258\n",
       "1.299805        425691\n",
       "1.400391        392209\n",
       "                 ...  \n",
       "24.703125         7283\n",
       "24.796875          410\n",
       "24.906250         5781\n",
       "25.000000        13772\n",
       "14896.000000      4429\n",
       "Name: prices, Length: 241, dtype: int64"
      ]
     },
     "execution_count": 38,
     "metadata": {},
     "output_type": "execute_result"
    }
   ],
   "source": [
    "insta_data['prices'].value_counts().sort_index()"
   ]
  },
  {
   "cell_type": "code",
   "execution_count": 37,
   "id": "656778b9",
   "metadata": {},
   "outputs": [],
   "source": [
    "insta_data['prices'] = insta_data['prices'].astype(\"float64\")"
   ]
  },
  {
   "cell_type": "code",
   "execution_count": 39,
   "id": "a982a0f0",
   "metadata": {},
   "outputs": [],
   "source": [
    "insta_data['prices'].fillna(insta_data['prices'].mean(), inplace = True)"
   ]
  },
  {
   "cell_type": "code",
   "execution_count": 40,
   "id": "f10fa281",
   "metadata": {},
   "outputs": [
    {
     "data": {
      "text/plain": [
       "1.000000        115143\n",
       "1.099609        242782\n",
       "1.200195        256258\n",
       "1.299805        425691\n",
       "1.400391        392209\n",
       "                 ...  \n",
       "24.703125         7283\n",
       "24.796875          410\n",
       "24.906250         5781\n",
       "25.000000        13772\n",
       "14896.000000      4429\n",
       "Name: prices, Length: 242, dtype: int64"
      ]
     },
     "execution_count": 40,
     "metadata": {},
     "output_type": "execute_result"
    }
   ],
   "source": [
    "insta_data['prices'].value_counts().sort_index()"
   ]
  },
  {
   "cell_type": "code",
   "execution_count": 41,
   "id": "28adfc16",
   "metadata": {},
   "outputs": [],
   "source": [
    "insta_data = insta_data.drop('mean_orders', axis=1)"
   ]
  },
  {
   "cell_type": "code",
   "execution_count": 42,
   "id": "2613082d",
   "metadata": {},
   "outputs": [],
   "source": [
    "insta_data = insta_data.drop('spender_flag', axis=1)"
   ]
  },
  {
   "cell_type": "code",
   "execution_count": 43,
   "id": "a3379b14",
   "metadata": {},
   "outputs": [],
   "source": [
    "insta_data['mean_orders'] = insta_data.groupby(['user_id'])['prices'].transform(np.mean)"
   ]
  },
  {
   "cell_type": "code",
   "execution_count": 44,
   "id": "b7fd6142",
   "metadata": {},
   "outputs": [],
   "source": [
    "insta_data.loc[insta_data['mean_orders'] > 10, 'spender_flag'] = 'Low Spender'\n",
    "insta_data.loc[insta_data['mean_orders'] <= 10,'spender_flag'] = 'High Spender'\n"
   ]
  },
  {
   "cell_type": "code",
   "execution_count": 45,
   "id": "333c45c6",
   "metadata": {},
   "outputs": [
    {
     "data": {
      "text/plain": [
       "High Spender    31828362\n",
       "Low Spender       576497\n",
       "Name: spender_flag, dtype: int64"
      ]
     },
     "execution_count": 45,
     "metadata": {},
     "output_type": "execute_result"
    }
   ],
   "source": [
    "insta_data['spender_flag'].value_counts(dropna=False)"
   ]
  },
  {
   "cell_type": "code",
   "execution_count": 46,
   "id": "6f3c6ba1",
   "metadata": {},
   "outputs": [],
   "source": [
    "#The reason I did all this above was because there was an error within the data, i had to take the inf data, turn it into nan and then replace it with the mean value of the rest of the data"
   ]
  },
  {
   "cell_type": "code",
   "execution_count": 47,
   "id": "172635f1",
   "metadata": {},
   "outputs": [],
   "source": [
    "#Now we can get back to seeing if there is a difference in spending habits between the two regions:"
   ]
  },
  {
   "cell_type": "code",
   "execution_count": 49,
   "id": "b87428d1",
   "metadata": {},
   "outputs": [],
   "source": [
    "crosstab = pd.crosstab(insta_data['region'], insta_data['spender_flag'], dropna = False)\n"
   ]
  },
  {
   "cell_type": "code",
   "execution_count": 50,
   "id": "888dc724",
   "metadata": {},
   "outputs": [
    {
     "data": {
      "text/html": [
       "<div>\n",
       "<style scoped>\n",
       "    .dataframe tbody tr th:only-of-type {\n",
       "        vertical-align: middle;\n",
       "    }\n",
       "\n",
       "    .dataframe tbody tr th {\n",
       "        vertical-align: top;\n",
       "    }\n",
       "\n",
       "    .dataframe thead th {\n",
       "        text-align: right;\n",
       "    }\n",
       "</style>\n",
       "<table border=\"1\" class=\"dataframe\">\n",
       "  <thead>\n",
       "    <tr style=\"text-align: right;\">\n",
       "      <th>spender_flag</th>\n",
       "      <th>High Spender</th>\n",
       "      <th>Low Spender</th>\n",
       "    </tr>\n",
       "    <tr>\n",
       "      <th>region</th>\n",
       "      <th></th>\n",
       "      <th></th>\n",
       "    </tr>\n",
       "  </thead>\n",
       "  <tbody>\n",
       "    <tr>\n",
       "      <th>Region Four</th>\n",
       "      <td>8144851</td>\n",
       "      <td>148062</td>\n",
       "    </tr>\n",
       "    <tr>\n",
       "      <th>Region One</th>\n",
       "      <td>5623963</td>\n",
       "      <td>98773</td>\n",
       "    </tr>\n",
       "    <tr>\n",
       "      <th>Region Three</th>\n",
       "      <td>10602383</td>\n",
       "      <td>189502</td>\n",
       "    </tr>\n",
       "    <tr>\n",
       "      <th>Region Two</th>\n",
       "      <td>7457165</td>\n",
       "      <td>140160</td>\n",
       "    </tr>\n",
       "  </tbody>\n",
       "</table>\n",
       "</div>"
      ],
      "text/plain": [
       "spender_flag  High Spender  Low Spender\n",
       "region                                 \n",
       "Region Four        8144851       148062\n",
       "Region One         5623963        98773\n",
       "Region Three      10602383       189502\n",
       "Region Two         7457165       140160"
      ]
     },
     "execution_count": 50,
     "metadata": {},
     "output_type": "execute_result"
    }
   ],
   "source": [
    "crosstab"
   ]
  },
  {
   "cell_type": "code",
   "execution_count": 51,
   "id": "5c2611fa",
   "metadata": {},
   "outputs": [],
   "source": [
    "#we can see that there is a big difference in spending habbits by region. Though, dividing by the amount of users in within each region might be a good idea!"
   ]
  },
  {
   "cell_type": "code",
   "execution_count": 66,
   "id": "f2bafca7",
   "metadata": {},
   "outputs": [
    {
     "data": {
      "text/plain": [
       "region\n",
       "Region Four     13\n",
       "Region One       9\n",
       "Region Three    17\n",
       "Region Two      12\n",
       "Name: state, dtype: int64"
      ]
     },
     "execution_count": 66,
     "metadata": {},
     "output_type": "execute_result"
    }
   ],
   "source": [
    "insta_data.groupby('region')['state'].nunique()"
   ]
  },
  {
   "cell_type": "code",
   "execution_count": 67,
   "id": "3c036c20",
   "metadata": {},
   "outputs": [
    {
     "data": {
      "text/plain": [
       "region\n",
       "Region Four     52565\n",
       "Region One      36388\n",
       "Region Three    68737\n",
       "Region Two      48519\n",
       "Name: user_id, dtype: int64"
      ]
     },
     "execution_count": 67,
     "metadata": {},
     "output_type": "execute_result"
    }
   ],
   "source": [
    "insta_data.groupby('region')['user_id'].nunique()"
   ]
  },
  {
   "cell_type": "code",
   "execution_count": 68,
   "id": "7772ff85",
   "metadata": {},
   "outputs": [],
   "source": [
    "#We see that region three has both more states and customers that the others which can account of it leading in numbers"
   ]
  },
  {
   "cell_type": "code",
   "execution_count": 69,
   "id": "4739b60b",
   "metadata": {},
   "outputs": [],
   "source": [
    "#the following will be a sample of customers who do not generate enough revenue by the app, namely customers with less than 5 orders:"
   ]
  },
  {
   "cell_type": "code",
   "execution_count": 70,
   "id": "342d0a77",
   "metadata": {},
   "outputs": [],
   "source": [
    "insta_high_activity_customers=insta_data[insta_data['order_number']>5]"
   ]
  },
  {
   "cell_type": "code",
   "execution_count": 71,
   "id": "7a993a69",
   "metadata": {},
   "outputs": [
    {
     "data": {
      "text/plain": [
       "Index(['order_id', 'product_id', 'add_to_cart_order', 'reordered', 'user_id',\n",
       "       'eval_set', 'order_number', 'order_dow', 'order_hour_of_day',\n",
       "       'days_since_prior_order', '_merge', 'aisle_id', 'department_id',\n",
       "       'prices', 'gender', 'state', 'age', 'date_joined', 'children',\n",
       "       'f_status', 'income', 'merge_flag_cust', 'max_order', 'loyalty_flag',\n",
       "       'median_orders', 'frequency_flag', 'region', 'mean_orders',\n",
       "       'spender_flag'],\n",
       "      dtype='object')"
      ]
     },
     "execution_count": 71,
     "metadata": {},
     "output_type": "execute_result"
    }
   ],
   "source": [
    "\n",
    "insta_high_activity_customers.columns"
   ]
  },
  {
   "cell_type": "code",
   "execution_count": 72,
   "id": "5858e003",
   "metadata": {},
   "outputs": [
    {
     "name": "stderr",
     "output_type": "stream",
     "text": [
      "/var/folders/xt/zrqk4mvj6cj4y973_7tp2_nw0000gp/T/ipykernel_34912/467650134.py:3: FutureWarning: Dropping of nuisance columns in DataFrame reductions (with 'numeric_only=None') is deprecated; in a future version this will raise TypeError.  Select only valid columns before calling the reduction.\n",
      "  insta_high_activity_customers.min()\n"
     ]
    },
    {
     "data": {
      "text/plain": [
       "order_id                                  3\n",
       "product_id                                1\n",
       "add_to_cart_order                         1\n",
       "reordered                                 0\n",
       "user_id                                   1\n",
       "eval_set                              prior\n",
       "order_number                              6\n",
       "order_dow                                 0\n",
       "order_hour_of_day                         0\n",
       "days_since_prior_order                  0.0\n",
       "aisle_id                               -128\n",
       "department_id                             1\n",
       "prices                                  1.0\n",
       "gender                               Female\n",
       "state                               Alabama\n",
       "age                                      18\n",
       "date_joined                        1/1/2017\n",
       "children                                  0\n",
       "f_status                   divorced/widowed\n",
       "income                                25903\n",
       "max_order                                 6\n",
       "loyalty_flag                 Loyal customer\n",
       "median_orders                           0.0\n",
       "frequency_flag            Frequent Customer\n",
       "region                          Region Four\n",
       "mean_orders                             1.0\n",
       "spender_flag                   High Spender\n",
       "dtype: object"
      ]
     },
     "execution_count": 72,
     "metadata": {},
     "output_type": "execute_result"
    }
   ],
   "source": [
    "#quick check to make sure we don't have anything 5 and under in our new sample:\n",
    "\n",
    "insta_high_activity_customers.min()"
   ]
  },
  {
   "cell_type": "code",
   "execution_count": 73,
   "id": "c8571c86",
   "metadata": {},
   "outputs": [],
   "source": [
    "#exporting data\n",
    "insta_high_activity_customers.to_pickle(r'/Users/hillelkrief1/Desktop/CareerFoundry/Course 2 Data Immersion/Achievement 4/Instacart Basket Analysis 08-2022/02 Data/Prepared Data/insta_high_activity_customers.pkl')"
   ]
  },
  {
   "cell_type": "code",
   "execution_count": 74,
   "id": "916d5798",
   "metadata": {},
   "outputs": [],
   "source": [
    "#deleteing high activity sample to reduce data usage\n",
    "del insta_high_activity_customers"
   ]
  },
  {
   "cell_type": "code",
   "execution_count": 75,
   "id": "8dcfa465",
   "metadata": {},
   "outputs": [],
   "source": [
    "#We will now explore some data profiling based on different demographics whether it be familial or socioeconmic or based on age"
   ]
  },
  {
   "cell_type": "code",
   "execution_count": 79,
   "id": "b342a93c",
   "metadata": {},
   "outputs": [],
   "source": [
    "#Age group profile, splitting given ages into three categories\n",
    "insta_data.loc[insta_data['age']<=25,'age_group']='Young Adult'\n",
    "insta_data.loc[(insta_data['age']>25) & (insta_data['age']<65),'age_group']='Regular Adult'\n",
    "insta_data.loc[insta_data['age']>=65,'age_group']='Senior Citizen'"
   ]
  },
  {
   "cell_type": "code",
   "execution_count": 80,
   "id": "51ff2046",
   "metadata": {},
   "outputs": [
    {
     "data": {
      "text/plain": [
       "Regular Adult     19784586\n",
       "Senior Citizen     8575084\n",
       "Young Adult        4045189\n",
       "Name: age_group, dtype: int64"
      ]
     },
     "execution_count": 80,
     "metadata": {},
     "output_type": "execute_result"
    }
   ],
   "source": [
    "insta_data['age_group'].value_counts(dropna=False)"
   ]
  },
  {
   "cell_type": "code",
   "execution_count": 81,
   "id": "f6d666d8",
   "metadata": {},
   "outputs": [],
   "source": [
    "#Income profile, splitting different incomes into three categories"
   ]
  },
  {
   "cell_type": "code",
   "execution_count": 84,
   "id": "37eec140",
   "metadata": {},
   "outputs": [
    {
     "data": {
      "text/plain": [
       "25903"
      ]
     },
     "execution_count": 84,
     "metadata": {},
     "output_type": "execute_result"
    }
   ],
   "source": [
    "insta_data['income'].min()"
   ]
  },
  {
   "cell_type": "code",
   "execution_count": 85,
   "id": "4cd3c0cf",
   "metadata": {},
   "outputs": [
    {
     "data": {
      "text/plain": [
       "593901"
      ]
     },
     "execution_count": 85,
     "metadata": {},
     "output_type": "execute_result"
    }
   ],
   "source": [
    "insta_data['income'].max()"
   ]
  },
  {
   "cell_type": "code",
   "execution_count": 90,
   "id": "066ffd7c",
   "metadata": {},
   "outputs": [],
   "source": [
    "insta_data.loc[insta_data['income']<50000,'income_level']='Low-Level Income'\n",
    "insta_data.loc[(insta_data['income']>50000) &(insta_data['income']<150000),'income_level']='Mid-Level Income'\n",
    "insta_data.loc[insta_data['income']>=150000,'income_level']='High-Level Income'"
   ]
  },
  {
   "cell_type": "code",
   "execution_count": 91,
   "id": "56f8c762",
   "metadata": {},
   "outputs": [
    {
     "data": {
      "text/plain": [
       "Mid-Level Income     24759195\n",
       "High-Level Income     4051581\n",
       "Low-Level Income      3594083\n",
       "Name: income_level, dtype: int64"
      ]
     },
     "execution_count": 91,
     "metadata": {},
     "output_type": "execute_result"
    }
   ],
   "source": [
    "insta_data['income_level'].value_counts(dropna=False)"
   ]
  },
  {
   "cell_type": "code",
   "execution_count": 92,
   "id": "16fd0657",
   "metadata": {},
   "outputs": [
    {
     "data": {
      "text/plain": [
       "0    16\n",
       "1    16\n",
       "2    16\n",
       "3    16\n",
       "4    16\n",
       "Name: department_id, dtype: int8"
      ]
     },
     "execution_count": 92,
     "metadata": {},
     "output_type": "execute_result"
    }
   ],
   "source": [
    "insta_data['department_id'].head()"
   ]
  },
  {
   "cell_type": "code",
   "execution_count": 93,
   "id": "f5bf98e2",
   "metadata": {},
   "outputs": [],
   "source": [
    "#Importing and analyzing the departments data"
   ]
  },
  {
   "cell_type": "code",
   "execution_count": 94,
   "id": "91dcc992",
   "metadata": {},
   "outputs": [],
   "source": [
    "dept=pd.read_csv(r'/Users/hillelkrief1/Desktop/CareerFoundry/Course 2 Data Immersion/Achievement 4/Instacart Basket Analysis 08-2022/02 Data/Prepared Data/departments_wrangled.csv',index_col=False)"
   ]
  },
  {
   "cell_type": "code",
   "execution_count": 95,
   "id": "05631ebc",
   "metadata": {},
   "outputs": [
    {
     "data": {
      "text/plain": [
       "Index(['Unnamed: 0', 'department'], dtype='object')"
      ]
     },
     "execution_count": 95,
     "metadata": {},
     "output_type": "execute_result"
    }
   ],
   "source": [
    "dept.columns"
   ]
  },
  {
   "cell_type": "code",
   "execution_count": 101,
   "id": "f8341e59",
   "metadata": {},
   "outputs": [
    {
     "data": {
      "text/html": [
       "<div>\n",
       "<style scoped>\n",
       "    .dataframe tbody tr th:only-of-type {\n",
       "        vertical-align: middle;\n",
       "    }\n",
       "\n",
       "    .dataframe tbody tr th {\n",
       "        vertical-align: top;\n",
       "    }\n",
       "\n",
       "    .dataframe thead th {\n",
       "        text-align: right;\n",
       "    }\n",
       "</style>\n",
       "<table border=\"1\" class=\"dataframe\">\n",
       "  <thead>\n",
       "    <tr style=\"text-align: right;\">\n",
       "      <th></th>\n",
       "      <th>Unnamed: 0</th>\n",
       "      <th>department</th>\n",
       "    </tr>\n",
       "  </thead>\n",
       "  <tbody>\n",
       "    <tr>\n",
       "      <th>0</th>\n",
       "      <td>1</td>\n",
       "      <td>frozen</td>\n",
       "    </tr>\n",
       "    <tr>\n",
       "      <th>1</th>\n",
       "      <td>2</td>\n",
       "      <td>other</td>\n",
       "    </tr>\n",
       "    <tr>\n",
       "      <th>2</th>\n",
       "      <td>3</td>\n",
       "      <td>bakery</td>\n",
       "    </tr>\n",
       "    <tr>\n",
       "      <th>3</th>\n",
       "      <td>4</td>\n",
       "      <td>produce</td>\n",
       "    </tr>\n",
       "    <tr>\n",
       "      <th>4</th>\n",
       "      <td>5</td>\n",
       "      <td>alcohol</td>\n",
       "    </tr>\n",
       "    <tr>\n",
       "      <th>5</th>\n",
       "      <td>6</td>\n",
       "      <td>international</td>\n",
       "    </tr>\n",
       "    <tr>\n",
       "      <th>6</th>\n",
       "      <td>7</td>\n",
       "      <td>beverages</td>\n",
       "    </tr>\n",
       "    <tr>\n",
       "      <th>7</th>\n",
       "      <td>8</td>\n",
       "      <td>pets</td>\n",
       "    </tr>\n",
       "    <tr>\n",
       "      <th>8</th>\n",
       "      <td>9</td>\n",
       "      <td>dry goods pasta</td>\n",
       "    </tr>\n",
       "    <tr>\n",
       "      <th>9</th>\n",
       "      <td>10</td>\n",
       "      <td>bulk</td>\n",
       "    </tr>\n",
       "    <tr>\n",
       "      <th>10</th>\n",
       "      <td>11</td>\n",
       "      <td>personal care</td>\n",
       "    </tr>\n",
       "    <tr>\n",
       "      <th>11</th>\n",
       "      <td>12</td>\n",
       "      <td>meat seafood</td>\n",
       "    </tr>\n",
       "    <tr>\n",
       "      <th>12</th>\n",
       "      <td>13</td>\n",
       "      <td>pantry</td>\n",
       "    </tr>\n",
       "    <tr>\n",
       "      <th>13</th>\n",
       "      <td>14</td>\n",
       "      <td>breakfast</td>\n",
       "    </tr>\n",
       "    <tr>\n",
       "      <th>14</th>\n",
       "      <td>15</td>\n",
       "      <td>canned goods</td>\n",
       "    </tr>\n",
       "    <tr>\n",
       "      <th>15</th>\n",
       "      <td>16</td>\n",
       "      <td>dairy eggs</td>\n",
       "    </tr>\n",
       "    <tr>\n",
       "      <th>16</th>\n",
       "      <td>17</td>\n",
       "      <td>household</td>\n",
       "    </tr>\n",
       "    <tr>\n",
       "      <th>17</th>\n",
       "      <td>18</td>\n",
       "      <td>babies</td>\n",
       "    </tr>\n",
       "    <tr>\n",
       "      <th>18</th>\n",
       "      <td>19</td>\n",
       "      <td>snacks</td>\n",
       "    </tr>\n",
       "    <tr>\n",
       "      <th>19</th>\n",
       "      <td>20</td>\n",
       "      <td>deli</td>\n",
       "    </tr>\n",
       "    <tr>\n",
       "      <th>20</th>\n",
       "      <td>21</td>\n",
       "      <td>missing</td>\n",
       "    </tr>\n",
       "  </tbody>\n",
       "</table>\n",
       "</div>"
      ],
      "text/plain": [
       "    Unnamed: 0       department\n",
       "0            1           frozen\n",
       "1            2            other\n",
       "2            3           bakery\n",
       "3            4          produce\n",
       "4            5          alcohol\n",
       "5            6    international\n",
       "6            7        beverages\n",
       "7            8             pets\n",
       "8            9  dry goods pasta\n",
       "9           10             bulk\n",
       "10          11    personal care\n",
       "11          12     meat seafood\n",
       "12          13           pantry\n",
       "13          14        breakfast\n",
       "14          15     canned goods\n",
       "15          16       dairy eggs\n",
       "16          17        household\n",
       "17          18           babies\n",
       "18          19           snacks\n",
       "19          20             deli\n",
       "20          21          missing"
      ]
     },
     "execution_count": 101,
     "metadata": {},
     "output_type": "execute_result"
    }
   ],
   "source": [
    "dept"
   ]
  },
  {
   "cell_type": "code",
   "execution_count": 107,
   "id": "539bc58d",
   "metadata": {},
   "outputs": [
    {
     "data": {
      "text/plain": [
       "4     9479291\n",
       "16    5398747\n",
       "19    2887550\n",
       "7     2688123\n",
       "1     2234743\n",
       "13    1875369\n",
       "3     1172428\n",
       "15    1068058\n",
       "20    1051249\n",
       "9      866627\n",
       "17     738666\n",
       "12     708927\n",
       "14     703033\n",
       "11     447572\n",
       "18     423802\n",
       "6      269253\n",
       "5      153696\n",
       "8       97716\n",
       "21      69145\n",
       "2       36291\n",
       "10      34573\n",
       "Name: department_id, dtype: int64"
      ]
     },
     "execution_count": 107,
     "metadata": {},
     "output_type": "execute_result"
    }
   ],
   "source": [
    "insta_data['department_id'].value_counts(dropna=False)"
   ]
  },
  {
   "cell_type": "code",
   "execution_count": 109,
   "id": "1736b915",
   "metadata": {},
   "outputs": [],
   "source": [
    "#We see here the list of our most and least popular departments with frozen, other and bakery at the top and babies, snacks, and deli at the bottom\n"
   ]
  },
  {
   "cell_type": "code",
   "execution_count": 113,
   "id": "0582025a",
   "metadata": {},
   "outputs": [],
   "source": [
    "#We will look at how many of our customers have kids"
   ]
  },
  {
   "cell_type": "code",
   "execution_count": 111,
   "id": "1f587858",
   "metadata": {},
   "outputs": [],
   "source": [
    "insta_data.loc[insta_data['children']<=0,'parent_status']='Are Parents'\n",
    "insta_data.loc[insta_data['children']>=1,'parent_status']='Are Not Parents'"
   ]
  },
  {
   "cell_type": "code",
   "execution_count": 112,
   "id": "53ce9837",
   "metadata": {},
   "outputs": [
    {
     "data": {
      "text/plain": [
       "Are Not Parents    24307356\n",
       "Are Parents         8097503\n",
       "Name: parent_status, dtype: int64"
      ]
     },
     "execution_count": 112,
     "metadata": {},
     "output_type": "execute_result"
    }
   ],
   "source": [
    "insta_data['parent_status'].value_counts(dropna=False)"
   ]
  },
  {
   "cell_type": "code",
   "execution_count": 114,
   "id": "b93feeef",
   "metadata": {},
   "outputs": [],
   "source": [
    "#Pretty interesting that the vast majority of our customers don't have kids. "
   ]
  },
  {
   "cell_type": "code",
   "execution_count": 115,
   "id": "92284c62",
   "metadata": {},
   "outputs": [],
   "source": [
    "#The following are visualizations based on the customer profiles made above:"
   ]
  },
  {
   "cell_type": "code",
   "execution_count": 127,
   "id": "61378bcf",
   "metadata": {},
   "outputs": [
    {
     "data": {
      "text/plain": [
       "Text(0, 0.5, 'Number of Customers(Billions)')"
      ]
     },
     "execution_count": 127,
     "metadata": {},
     "output_type": "execute_result"
    },
    {
     "data": {
      "image/png": "[encoded data removed]",
      "text/plain": [
       "<Figure size 432x288 with 1 Axes>"
      ]
     },
     "metadata": {
      "needs_background": "light"
     },
     "output_type": "display_data"
    }
   ],
   "source": [
    "#Visualization of the different regions, one being one billion\n",
    "insta_data['region'].value_counts().plot.bar(50)\n",
    "plt.title('Distribution of Region')\n",
    "plt.xlabel('Region')\n",
    "plt.ylabel('Number of Customers(Billions)')"
   ]
  },
  {
   "cell_type": "code",
   "execution_count": 128,
   "id": "5e13501d",
   "metadata": {},
   "outputs": [
    {
     "data": {
      "text/plain": [
       "Text(0, 0.5, 'Number of Orders(Billions)')"
      ]
     },
     "execution_count": 128,
     "metadata": {},
     "output_type": "execute_result"
    },
    {
     "data": {
      "image/png": "[encoded data removed]",
      "text/plain": [
       "<Figure size 432x288 with 1 Axes>"
      ]
     },
     "metadata": {
      "needs_background": "light"
     },
     "output_type": "display_data"
    }
   ],
   "source": [
    "#Visualizations of the different spending habits, seemingly, those who buy from us do not stop buying. Which means our customer retention is very high\n",
    "insta_data['spender_flag'].value_counts().plot.bar()\n",
    "plt.title('Distribution of Spending')\n",
    "plt.xlabel('Spender')\n",
    "plt.ylabel('Number of Orders(Billions)')"
   ]
  },
  {
   "cell_type": "code",
   "execution_count": 129,
   "id": "56446c6f",
   "metadata": {},
   "outputs": [
    {
     "data": {
      "text/plain": [
       "Text(0, 0.5, 'Number of Customters(Billions)')"
      ]
     },
     "execution_count": 129,
     "metadata": {},
     "output_type": "execute_result"
    },
    {
     "data": {
      "image/png": "[encoded data removed]",
      "text/plain": [
       "<Figure size 432x288 with 1 Axes>"
      ]
     },
     "metadata": {
      "needs_background": "light"
     },
     "output_type": "display_data"
    }
   ],
   "source": [
    "#Age group profile visualizations\n",
    "insta_data['age_group'].value_counts().plot.bar()\n",
    "plt.title('Distribution of Age Group')\n",
    "plt.xlabel('Age Group')\n",
    "plt.ylabel('Number of Customters(Billions)')"
   ]
  },
  {
   "cell_type": "code",
   "execution_count": 130,
   "id": "b6505b47",
   "metadata": {},
   "outputs": [
    {
     "data": {
      "text/plain": [
       "Text(0, 0.5, 'Number of Customers(Billions)')"
      ]
     },
     "execution_count": 130,
     "metadata": {},
     "output_type": "execute_result"
    },
    {
     "data": {
      "image/png": "[encoded data removed]",
      "text/plain": [
       "<Figure size 432x288 with 1 Axes>"
      ]
     },
     "metadata": {
      "needs_background": "light"
     },
     "output_type": "display_data"
    }
   ],
   "source": [
    "#Income level Profile visualizations\n",
    "insta_data['income_level'].value_counts().plot.bar()\n",
    "plt.title('Distribution of Income')\n",
    "plt.xlabel('Income')\n",
    "plt.ylabel('Number of Customers(Billions)')"
   ]
  },
  {
   "cell_type": "code",
   "execution_count": 131,
   "id": "b2cb4d39",
   "metadata": {},
   "outputs": [],
   "source": [
    "#We will now preform aggregations for usage frequency and expenditure"
   ]
  },
  {
   "cell_type": "code",
   "execution_count": 133,
   "id": "de12153e",
   "metadata": {},
   "outputs": [
    {
     "data": {
      "text/plain": [
       "0    11.296875\n",
       "1    11.296875\n",
       "2    11.296875\n",
       "3    11.296875\n",
       "4    11.296875\n",
       "Name: prices, dtype: float64"
      ]
     },
     "execution_count": 133,
     "metadata": {},
     "output_type": "execute_result"
    }
   ],
   "source": [
    "insta_data['prices'].head()"
   ]
  },
  {
   "cell_type": "code",
   "execution_count": 134,
   "id": "b07a8c94",
   "metadata": {},
   "outputs": [],
   "source": [
    "#First, region aggregations:"
   ]
  },
  {
   "cell_type": "code",
   "execution_count": 135,
   "id": "40129c6e",
   "metadata": {},
   "outputs": [
    {
     "data": {
      "text/html": [
       "<div>\n",
       "<style scoped>\n",
       "    .dataframe tbody tr th:only-of-type {\n",
       "        vertical-align: middle;\n",
       "    }\n",
       "\n",
       "    .dataframe tbody tr th {\n",
       "        vertical-align: top;\n",
       "    }\n",
       "\n",
       "    .dataframe thead tr th {\n",
       "        text-align: left;\n",
       "    }\n",
       "\n",
       "    .dataframe thead tr:last-of-type th {\n",
       "        text-align: right;\n",
       "    }\n",
       "</style>\n",
       "<table border=\"1\" class=\"dataframe\">\n",
       "  <thead>\n",
       "    <tr>\n",
       "      <th></th>\n",
       "      <th colspan=\"3\" halign=\"left\">prices</th>\n",
       "    </tr>\n",
       "    <tr>\n",
       "      <th></th>\n",
       "      <th>mean</th>\n",
       "      <th>min</th>\n",
       "      <th>max</th>\n",
       "    </tr>\n",
       "    <tr>\n",
       "      <th>region</th>\n",
       "      <th></th>\n",
       "      <th></th>\n",
       "      <th></th>\n",
       "    </tr>\n",
       "  </thead>\n",
       "  <tbody>\n",
       "    <tr>\n",
       "      <th>Region Four</th>\n",
       "      <td>9.775853</td>\n",
       "      <td>1.0</td>\n",
       "      <td>14896.0</td>\n",
       "    </tr>\n",
       "    <tr>\n",
       "      <th>Region One</th>\n",
       "      <td>9.702293</td>\n",
       "      <td>1.0</td>\n",
       "      <td>14896.0</td>\n",
       "    </tr>\n",
       "    <tr>\n",
       "      <th>Region Three</th>\n",
       "      <td>9.924897</td>\n",
       "      <td>1.0</td>\n",
       "      <td>14896.0</td>\n",
       "    </tr>\n",
       "    <tr>\n",
       "      <th>Region Two</th>\n",
       "      <td>9.832524</td>\n",
       "      <td>1.0</td>\n",
       "      <td>14896.0</td>\n",
       "    </tr>\n",
       "  </tbody>\n",
       "</table>\n",
       "</div>"
      ],
      "text/plain": [
       "                prices              \n",
       "                  mean  min      max\n",
       "region                              \n",
       "Region Four   9.775853  1.0  14896.0\n",
       "Region One    9.702293  1.0  14896.0\n",
       "Region Three  9.924897  1.0  14896.0\n",
       "Region Two    9.832524  1.0  14896.0"
      ]
     },
     "execution_count": 135,
     "metadata": {},
     "output_type": "execute_result"
    }
   ],
   "source": [
    "#Expenditure\n",
    "insta_data.groupby('region').agg({'prices': ['mean', 'min', 'max']})"
   ]
  },
  {
   "cell_type": "code",
   "execution_count": 136,
   "id": "bdc1cde9",
   "metadata": {},
   "outputs": [
    {
     "data": {
      "text/html": [
       "<div>\n",
       "<style scoped>\n",
       "    .dataframe tbody tr th:only-of-type {\n",
       "        vertical-align: middle;\n",
       "    }\n",
       "\n",
       "    .dataframe tbody tr th {\n",
       "        vertical-align: top;\n",
       "    }\n",
       "\n",
       "    .dataframe thead tr th {\n",
       "        text-align: left;\n",
       "    }\n",
       "\n",
       "    .dataframe thead tr:last-of-type th {\n",
       "        text-align: right;\n",
       "    }\n",
       "</style>\n",
       "<table border=\"1\" class=\"dataframe\">\n",
       "  <thead>\n",
       "    <tr>\n",
       "      <th></th>\n",
       "      <th colspan=\"3\" halign=\"left\">median_orders</th>\n",
       "    </tr>\n",
       "    <tr>\n",
       "      <th></th>\n",
       "      <th>mean</th>\n",
       "      <th>min</th>\n",
       "      <th>max</th>\n",
       "    </tr>\n",
       "    <tr>\n",
       "      <th>region</th>\n",
       "      <th></th>\n",
       "      <th></th>\n",
       "      <th></th>\n",
       "    </tr>\n",
       "  </thead>\n",
       "  <tbody>\n",
       "    <tr>\n",
       "      <th>Region Four</th>\n",
       "      <td>10.359375</td>\n",
       "      <td>0.0</td>\n",
       "      <td>30.0</td>\n",
       "    </tr>\n",
       "    <tr>\n",
       "      <th>Region One</th>\n",
       "      <td>10.375000</td>\n",
       "      <td>0.0</td>\n",
       "      <td>30.0</td>\n",
       "    </tr>\n",
       "    <tr>\n",
       "      <th>Region Three</th>\n",
       "      <td>10.398438</td>\n",
       "      <td>0.0</td>\n",
       "      <td>30.0</td>\n",
       "    </tr>\n",
       "    <tr>\n",
       "      <th>Region Two</th>\n",
       "      <td>10.460938</td>\n",
       "      <td>0.0</td>\n",
       "      <td>30.0</td>\n",
       "    </tr>\n",
       "  </tbody>\n",
       "</table>\n",
       "</div>"
      ],
      "text/plain": [
       "             median_orders           \n",
       "                      mean  min   max\n",
       "region                               \n",
       "Region Four      10.359375  0.0  30.0\n",
       "Region One       10.375000  0.0  30.0\n",
       "Region Three     10.398438  0.0  30.0\n",
       "Region Two       10.460938  0.0  30.0"
      ]
     },
     "execution_count": 136,
     "metadata": {},
     "output_type": "execute_result"
    }
   ],
   "source": [
    "#Frequency\n",
    "insta_data.groupby('region').agg({'median_orders': ['mean', 'min', 'max']})"
   ]
  },
  {
   "cell_type": "code",
   "execution_count": 137,
   "id": "ab8b8566",
   "metadata": {},
   "outputs": [],
   "source": [
    "#Second, spender aggregations:"
   ]
  },
  {
   "cell_type": "code",
   "execution_count": 138,
   "id": "366dcf34",
   "metadata": {},
   "outputs": [
    {
     "data": {
      "text/html": [
       "<div>\n",
       "<style scoped>\n",
       "    .dataframe tbody tr th:only-of-type {\n",
       "        vertical-align: middle;\n",
       "    }\n",
       "\n",
       "    .dataframe tbody tr th {\n",
       "        vertical-align: top;\n",
       "    }\n",
       "\n",
       "    .dataframe thead tr th {\n",
       "        text-align: left;\n",
       "    }\n",
       "\n",
       "    .dataframe thead tr:last-of-type th {\n",
       "        text-align: right;\n",
       "    }\n",
       "</style>\n",
       "<table border=\"1\" class=\"dataframe\">\n",
       "  <thead>\n",
       "    <tr>\n",
       "      <th></th>\n",
       "      <th colspan=\"3\" halign=\"left\">prices</th>\n",
       "    </tr>\n",
       "    <tr>\n",
       "      <th></th>\n",
       "      <th>mean</th>\n",
       "      <th>min</th>\n",
       "      <th>max</th>\n",
       "    </tr>\n",
       "    <tr>\n",
       "      <th>spender_flag</th>\n",
       "      <th></th>\n",
       "      <th></th>\n",
       "      <th></th>\n",
       "    </tr>\n",
       "  </thead>\n",
       "  <tbody>\n",
       "    <tr>\n",
       "      <th>High Spender</th>\n",
       "      <td>7.780651</td>\n",
       "      <td>1.0</td>\n",
       "      <td>25.0</td>\n",
       "    </tr>\n",
       "    <tr>\n",
       "      <th>Low Spender</th>\n",
       "      <td>122.737526</td>\n",
       "      <td>1.0</td>\n",
       "      <td>14896.0</td>\n",
       "    </tr>\n",
       "  </tbody>\n",
       "</table>\n",
       "</div>"
      ],
      "text/plain": [
       "                  prices              \n",
       "                    mean  min      max\n",
       "spender_flag                          \n",
       "High Spender    7.780651  1.0     25.0\n",
       "Low Spender   122.737526  1.0  14896.0"
      ]
     },
     "execution_count": 138,
     "metadata": {},
     "output_type": "execute_result"
    }
   ],
   "source": [
    "#Top spender expenditure\n",
    "insta_data.groupby('spender_flag').agg({'prices': ['mean', 'min', 'max']})"
   ]
  },
  {
   "cell_type": "code",
   "execution_count": 139,
   "id": "d3a8426c",
   "metadata": {},
   "outputs": [
    {
     "data": {
      "text/html": [
       "<div>\n",
       "<style scoped>\n",
       "    .dataframe tbody tr th:only-of-type {\n",
       "        vertical-align: middle;\n",
       "    }\n",
       "\n",
       "    .dataframe tbody tr th {\n",
       "        vertical-align: top;\n",
       "    }\n",
       "\n",
       "    .dataframe thead tr th {\n",
       "        text-align: left;\n",
       "    }\n",
       "\n",
       "    .dataframe thead tr:last-of-type th {\n",
       "        text-align: right;\n",
       "    }\n",
       "</style>\n",
       "<table border=\"1\" class=\"dataframe\">\n",
       "  <thead>\n",
       "    <tr>\n",
       "      <th></th>\n",
       "      <th colspan=\"3\" halign=\"left\">median_orders</th>\n",
       "    </tr>\n",
       "    <tr>\n",
       "      <th></th>\n",
       "      <th>mean</th>\n",
       "      <th>min</th>\n",
       "      <th>max</th>\n",
       "    </tr>\n",
       "    <tr>\n",
       "      <th>spender_flag</th>\n",
       "      <th></th>\n",
       "      <th></th>\n",
       "      <th></th>\n",
       "    </tr>\n",
       "  </thead>\n",
       "  <tbody>\n",
       "    <tr>\n",
       "      <th>High Spender</th>\n",
       "      <td>10.398438</td>\n",
       "      <td>0.0</td>\n",
       "      <td>30.0</td>\n",
       "    </tr>\n",
       "    <tr>\n",
       "      <th>Low Spender</th>\n",
       "      <td>10.171875</td>\n",
       "      <td>0.0</td>\n",
       "      <td>30.0</td>\n",
       "    </tr>\n",
       "  </tbody>\n",
       "</table>\n",
       "</div>"
      ],
      "text/plain": [
       "             median_orders           \n",
       "                      mean  min   max\n",
       "spender_flag                         \n",
       "High Spender     10.398438  0.0  30.0\n",
       "Low Spender      10.171875  0.0  30.0"
      ]
     },
     "execution_count": 139,
     "metadata": {},
     "output_type": "execute_result"
    }
   ],
   "source": [
    "#Top spender frequency\n",
    "insta_data.groupby('spender_flag').agg({'median_orders': ['mean', 'min', 'max']})"
   ]
  },
  {
   "cell_type": "code",
   "execution_count": 140,
   "id": "e5a36a02",
   "metadata": {},
   "outputs": [],
   "source": [
    "#Third, age group aggregations:"
   ]
  },
  {
   "cell_type": "code",
   "execution_count": 141,
   "id": "1b862ac6",
   "metadata": {},
   "outputs": [
    {
     "data": {
      "text/html": [
       "<div>\n",
       "<style scoped>\n",
       "    .dataframe tbody tr th:only-of-type {\n",
       "        vertical-align: middle;\n",
       "    }\n",
       "\n",
       "    .dataframe tbody tr th {\n",
       "        vertical-align: top;\n",
       "    }\n",
       "\n",
       "    .dataframe thead tr th {\n",
       "        text-align: left;\n",
       "    }\n",
       "\n",
       "    .dataframe thead tr:last-of-type th {\n",
       "        text-align: right;\n",
       "    }\n",
       "</style>\n",
       "<table border=\"1\" class=\"dataframe\">\n",
       "  <thead>\n",
       "    <tr>\n",
       "      <th></th>\n",
       "      <th colspan=\"3\" halign=\"left\">prices</th>\n",
       "    </tr>\n",
       "    <tr>\n",
       "      <th></th>\n",
       "      <th>mean</th>\n",
       "      <th>min</th>\n",
       "      <th>max</th>\n",
       "    </tr>\n",
       "    <tr>\n",
       "      <th>age_group</th>\n",
       "      <th></th>\n",
       "      <th></th>\n",
       "      <th></th>\n",
       "    </tr>\n",
       "  </thead>\n",
       "  <tbody>\n",
       "    <tr>\n",
       "      <th>Regular Adult</th>\n",
       "      <td>9.802556</td>\n",
       "      <td>1.0</td>\n",
       "      <td>14896.0</td>\n",
       "    </tr>\n",
       "    <tr>\n",
       "      <th>Senior Citizen</th>\n",
       "      <td>9.820885</td>\n",
       "      <td>1.0</td>\n",
       "      <td>14896.0</td>\n",
       "    </tr>\n",
       "    <tr>\n",
       "      <th>Young Adult</th>\n",
       "      <td>9.949783</td>\n",
       "      <td>1.0</td>\n",
       "      <td>14896.0</td>\n",
       "    </tr>\n",
       "  </tbody>\n",
       "</table>\n",
       "</div>"
      ],
      "text/plain": [
       "                  prices              \n",
       "                    mean  min      max\n",
       "age_group                             \n",
       "Regular Adult   9.802556  1.0  14896.0\n",
       "Senior Citizen  9.820885  1.0  14896.0\n",
       "Young Adult     9.949783  1.0  14896.0"
      ]
     },
     "execution_count": 141,
     "metadata": {},
     "output_type": "execute_result"
    }
   ],
   "source": [
    "#Age group expenditure:\n",
    "insta_data.groupby('age_group').agg({'prices': ['mean', 'min', 'max']})"
   ]
  },
  {
   "cell_type": "code",
   "execution_count": 142,
   "id": "9e822ee2",
   "metadata": {},
   "outputs": [
    {
     "data": {
      "text/html": [
       "<div>\n",
       "<style scoped>\n",
       "    .dataframe tbody tr th:only-of-type {\n",
       "        vertical-align: middle;\n",
       "    }\n",
       "\n",
       "    .dataframe tbody tr th {\n",
       "        vertical-align: top;\n",
       "    }\n",
       "\n",
       "    .dataframe thead tr th {\n",
       "        text-align: left;\n",
       "    }\n",
       "\n",
       "    .dataframe thead tr:last-of-type th {\n",
       "        text-align: right;\n",
       "    }\n",
       "</style>\n",
       "<table border=\"1\" class=\"dataframe\">\n",
       "  <thead>\n",
       "    <tr>\n",
       "      <th></th>\n",
       "      <th colspan=\"3\" halign=\"left\">median_orders</th>\n",
       "    </tr>\n",
       "    <tr>\n",
       "      <th></th>\n",
       "      <th>mean</th>\n",
       "      <th>min</th>\n",
       "      <th>max</th>\n",
       "    </tr>\n",
       "    <tr>\n",
       "      <th>spender_flag</th>\n",
       "      <th></th>\n",
       "      <th></th>\n",
       "      <th></th>\n",
       "    </tr>\n",
       "  </thead>\n",
       "  <tbody>\n",
       "    <tr>\n",
       "      <th>High Spender</th>\n",
       "      <td>10.398438</td>\n",
       "      <td>0.0</td>\n",
       "      <td>30.0</td>\n",
       "    </tr>\n",
       "    <tr>\n",
       "      <th>Low Spender</th>\n",
       "      <td>10.171875</td>\n",
       "      <td>0.0</td>\n",
       "      <td>30.0</td>\n",
       "    </tr>\n",
       "  </tbody>\n",
       "</table>\n",
       "</div>"
      ],
      "text/plain": [
       "             median_orders           \n",
       "                      mean  min   max\n",
       "spender_flag                         \n",
       "High Spender     10.398438  0.0  30.0\n",
       "Low Spender      10.171875  0.0  30.0"
      ]
     },
     "execution_count": 142,
     "metadata": {},
     "output_type": "execute_result"
    }
   ],
   "source": [
    "#Age group frequency\n",
    "insta_data.groupby('spender_flag').agg({'median_orders': ['mean', 'min', 'max']})"
   ]
  },
  {
   "cell_type": "code",
   "execution_count": 143,
   "id": "0746aca7",
   "metadata": {},
   "outputs": [],
   "source": [
    "#Lastly, income level aggregations:"
   ]
  },
  {
   "cell_type": "code",
   "execution_count": 144,
   "id": "57fd4734",
   "metadata": {},
   "outputs": [
    {
     "data": {
      "text/html": [
       "<div>\n",
       "<style scoped>\n",
       "    .dataframe tbody tr th:only-of-type {\n",
       "        vertical-align: middle;\n",
       "    }\n",
       "\n",
       "    .dataframe tbody tr th {\n",
       "        vertical-align: top;\n",
       "    }\n",
       "\n",
       "    .dataframe thead tr th {\n",
       "        text-align: left;\n",
       "    }\n",
       "\n",
       "    .dataframe thead tr:last-of-type th {\n",
       "        text-align: right;\n",
       "    }\n",
       "</style>\n",
       "<table border=\"1\" class=\"dataframe\">\n",
       "  <thead>\n",
       "    <tr>\n",
       "      <th></th>\n",
       "      <th colspan=\"3\" halign=\"left\">prices</th>\n",
       "    </tr>\n",
       "    <tr>\n",
       "      <th></th>\n",
       "      <th>mean</th>\n",
       "      <th>min</th>\n",
       "      <th>max</th>\n",
       "    </tr>\n",
       "    <tr>\n",
       "      <th>income_level</th>\n",
       "      <th></th>\n",
       "      <th></th>\n",
       "      <th></th>\n",
       "    </tr>\n",
       "  </thead>\n",
       "  <tbody>\n",
       "    <tr>\n",
       "      <th>High-Level Income</th>\n",
       "      <td>20.275415</td>\n",
       "      <td>1.0</td>\n",
       "      <td>14896.0</td>\n",
       "    </tr>\n",
       "    <tr>\n",
       "      <th>Low-Level Income</th>\n",
       "      <td>6.696874</td>\n",
       "      <td>1.0</td>\n",
       "      <td>25.0</td>\n",
       "    </tr>\n",
       "    <tr>\n",
       "      <th>Mid-Level Income</th>\n",
       "      <td>8.570011</td>\n",
       "      <td>1.0</td>\n",
       "      <td>14896.0</td>\n",
       "    </tr>\n",
       "  </tbody>\n",
       "</table>\n",
       "</div>"
      ],
      "text/plain": [
       "                      prices              \n",
       "                        mean  min      max\n",
       "income_level                              \n",
       "High-Level Income  20.275415  1.0  14896.0\n",
       "Low-Level Income    6.696874  1.0     25.0\n",
       "Mid-Level Income    8.570011  1.0  14896.0"
      ]
     },
     "execution_count": 144,
     "metadata": {},
     "output_type": "execute_result"
    }
   ],
   "source": [
    "#Income level expenditure\n",
    "insta_data.groupby('income_level').agg({'prices': ['mean', 'min', 'max']})"
   ]
  },
  {
   "cell_type": "code",
   "execution_count": 145,
   "id": "5dbff0ec",
   "metadata": {},
   "outputs": [
    {
     "data": {
      "text/html": [
       "<div>\n",
       "<style scoped>\n",
       "    .dataframe tbody tr th:only-of-type {\n",
       "        vertical-align: middle;\n",
       "    }\n",
       "\n",
       "    .dataframe tbody tr th {\n",
       "        vertical-align: top;\n",
       "    }\n",
       "\n",
       "    .dataframe thead tr th {\n",
       "        text-align: left;\n",
       "    }\n",
       "\n",
       "    .dataframe thead tr:last-of-type th {\n",
       "        text-align: right;\n",
       "    }\n",
       "</style>\n",
       "<table border=\"1\" class=\"dataframe\">\n",
       "  <thead>\n",
       "    <tr>\n",
       "      <th></th>\n",
       "      <th colspan=\"3\" halign=\"left\">median_orders</th>\n",
       "    </tr>\n",
       "    <tr>\n",
       "      <th></th>\n",
       "      <th>mean</th>\n",
       "      <th>min</th>\n",
       "      <th>max</th>\n",
       "    </tr>\n",
       "    <tr>\n",
       "      <th>income_level</th>\n",
       "      <th></th>\n",
       "      <th></th>\n",
       "      <th></th>\n",
       "    </tr>\n",
       "  </thead>\n",
       "  <tbody>\n",
       "    <tr>\n",
       "      <th>High-Level Income</th>\n",
       "      <td>10.171875</td>\n",
       "      <td>0.0</td>\n",
       "      <td>30.0</td>\n",
       "    </tr>\n",
       "    <tr>\n",
       "      <th>Low-Level Income</th>\n",
       "      <td>11.125000</td>\n",
       "      <td>0.0</td>\n",
       "      <td>30.0</td>\n",
       "    </tr>\n",
       "    <tr>\n",
       "      <th>Mid-Level Income</th>\n",
       "      <td>10.328125</td>\n",
       "      <td>0.0</td>\n",
       "      <td>30.0</td>\n",
       "    </tr>\n",
       "  </tbody>\n",
       "</table>\n",
       "</div>"
      ],
      "text/plain": [
       "                  median_orders           \n",
       "                           mean  min   max\n",
       "income_level                              \n",
       "High-Level Income     10.171875  0.0  30.0\n",
       "Low-Level Income      11.125000  0.0  30.0\n",
       "Mid-Level Income      10.328125  0.0  30.0"
      ]
     },
     "execution_count": 145,
     "metadata": {},
     "output_type": "execute_result"
    }
   ],
   "source": [
    "#Income level frequency\n",
    "insta_data.groupby('income_level').agg({'median_orders': ['mean', 'min', 'max']})"
   ]
  },
  {
   "cell_type": "code",
   "execution_count": 146,
   "id": "e9360673",
   "metadata": {},
   "outputs": [],
   "source": [
    "#We will now compare customer profiles with regions and departments and others to indentify patterns and links"
   ]
  },
  {
   "cell_type": "code",
   "execution_count": 148,
   "id": "cb0a5424",
   "metadata": {},
   "outputs": [],
   "source": [
    "#spender level across regions\n",
    "sepender_region_crosstab = pd.crosstab(insta_data['region'], insta_data['spender_flag'], dropna = False)\n"
   ]
  },
  {
   "cell_type": "code",
   "execution_count": 149,
   "id": "9051a4a3",
   "metadata": {},
   "outputs": [
    {
     "data": {
      "text/html": [
       "<div>\n",
       "<style scoped>\n",
       "    .dataframe tbody tr th:only-of-type {\n",
       "        vertical-align: middle;\n",
       "    }\n",
       "\n",
       "    .dataframe tbody tr th {\n",
       "        vertical-align: top;\n",
       "    }\n",
       "\n",
       "    .dataframe thead th {\n",
       "        text-align: right;\n",
       "    }\n",
       "</style>\n",
       "<table border=\"1\" class=\"dataframe\">\n",
       "  <thead>\n",
       "    <tr style=\"text-align: right;\">\n",
       "      <th>spender_flag</th>\n",
       "      <th>High Spender</th>\n",
       "      <th>Low Spender</th>\n",
       "    </tr>\n",
       "    <tr>\n",
       "      <th>region</th>\n",
       "      <th></th>\n",
       "      <th></th>\n",
       "    </tr>\n",
       "  </thead>\n",
       "  <tbody>\n",
       "    <tr>\n",
       "      <th>Region Four</th>\n",
       "      <td>8144851</td>\n",
       "      <td>148062</td>\n",
       "    </tr>\n",
       "    <tr>\n",
       "      <th>Region One</th>\n",
       "      <td>5623963</td>\n",
       "      <td>98773</td>\n",
       "    </tr>\n",
       "    <tr>\n",
       "      <th>Region Three</th>\n",
       "      <td>10602383</td>\n",
       "      <td>189502</td>\n",
       "    </tr>\n",
       "    <tr>\n",
       "      <th>Region Two</th>\n",
       "      <td>7457165</td>\n",
       "      <td>140160</td>\n",
       "    </tr>\n",
       "  </tbody>\n",
       "</table>\n",
       "</div>"
      ],
      "text/plain": [
       "spender_flag  High Spender  Low Spender\n",
       "region                                 \n",
       "Region Four        8144851       148062\n",
       "Region One         5623963        98773\n",
       "Region Three      10602383       189502\n",
       "Region Two         7457165       140160"
      ]
     },
     "execution_count": 149,
     "metadata": {},
     "output_type": "execute_result"
    }
   ],
   "source": [
    "sepender_region_crosstab"
   ]
  },
  {
   "cell_type": "code",
   "execution_count": 162,
   "id": "a80573a3",
   "metadata": {},
   "outputs": [],
   "source": [
    "df_3=insta_data.groupby('region')['user_id'].nunique()"
   ]
  },
  {
   "cell_type": "code",
   "execution_count": 151,
   "id": "543d9323",
   "metadata": {},
   "outputs": [],
   "source": [
    "spender_region_ratio=pd.read_csv(r'/Users/hillelkrief1/Desktop/ratio.csv',index_col=False)"
   ]
  },
  {
   "cell_type": "code",
   "execution_count": 152,
   "id": "914f3a1c",
   "metadata": {},
   "outputs": [
    {
     "data": {
      "text/html": [
       "<div>\n",
       "<style scoped>\n",
       "    .dataframe tbody tr th:only-of-type {\n",
       "        vertical-align: middle;\n",
       "    }\n",
       "\n",
       "    .dataframe tbody tr th {\n",
       "        vertical-align: top;\n",
       "    }\n",
       "\n",
       "    .dataframe thead th {\n",
       "        text-align: right;\n",
       "    }\n",
       "</style>\n",
       "<table border=\"1\" class=\"dataframe\">\n",
       "  <thead>\n",
       "    <tr style=\"text-align: right;\">\n",
       "      <th></th>\n",
       "      <th>spender_flag</th>\n",
       "      <th>High Spender</th>\n",
       "      <th>Low Spender</th>\n",
       "    </tr>\n",
       "  </thead>\n",
       "  <tbody>\n",
       "    <tr>\n",
       "      <th>0</th>\n",
       "      <td>Region Four</td>\n",
       "      <td>154.948178</td>\n",
       "      <td>2.816741</td>\n",
       "    </tr>\n",
       "    <tr>\n",
       "      <th>1</th>\n",
       "      <td>Region One</td>\n",
       "      <td>154.555430</td>\n",
       "      <td>2.714439</td>\n",
       "    </tr>\n",
       "    <tr>\n",
       "      <th>2</th>\n",
       "      <td>Region Three</td>\n",
       "      <td>154.245646</td>\n",
       "      <td>2.756914</td>\n",
       "    </tr>\n",
       "    <tr>\n",
       "      <th>3</th>\n",
       "      <td>Region Two</td>\n",
       "      <td>153.695769</td>\n",
       "      <td>2.888765</td>\n",
       "    </tr>\n",
       "  </tbody>\n",
       "</table>\n",
       "</div>"
      ],
      "text/plain": [
       "   spender_flag  High Spender  Low Spender\n",
       "0   Region Four    154.948178     2.816741\n",
       "1    Region One    154.555430     2.714439\n",
       "2  Region Three    154.245646     2.756914\n",
       "3    Region Two    153.695769     2.888765"
      ]
     },
     "execution_count": 152,
     "metadata": {},
     "output_type": "execute_result"
    }
   ],
   "source": [
    "spender_region_ratio"
   ]
  },
  {
   "cell_type": "code",
   "execution_count": 153,
   "id": "aa871553",
   "metadata": {},
   "outputs": [],
   "source": [
    "#ratio wise, spender levels across USA's four regions are very similar. Cumultive numbers wise we see that region three is number one. But you cannot say that one region majorly better than the other in this regard"
   ]
  },
  {
   "cell_type": "code",
   "execution_count": 154,
   "id": "e97e47a0",
   "metadata": {},
   "outputs": [],
   "source": [
    "#age group level across regions\n",
    "age_group_crosstab = pd.crosstab(insta_data['region'], insta_data['age_group'], dropna = False)"
   ]
  },
  {
   "cell_type": "code",
   "execution_count": 155,
   "id": "78c1911a",
   "metadata": {},
   "outputs": [
    {
     "data": {
      "text/html": [
       "<div>\n",
       "<style scoped>\n",
       "    .dataframe tbody tr th:only-of-type {\n",
       "        vertical-align: middle;\n",
       "    }\n",
       "\n",
       "    .dataframe tbody tr th {\n",
       "        vertical-align: top;\n",
       "    }\n",
       "\n",
       "    .dataframe thead th {\n",
       "        text-align: right;\n",
       "    }\n",
       "</style>\n",
       "<table border=\"1\" class=\"dataframe\">\n",
       "  <thead>\n",
       "    <tr style=\"text-align: right;\">\n",
       "      <th>age_group</th>\n",
       "      <th>Regular Adult</th>\n",
       "      <th>Senior Citizen</th>\n",
       "      <th>Young Adult</th>\n",
       "    </tr>\n",
       "    <tr>\n",
       "      <th>region</th>\n",
       "      <th></th>\n",
       "      <th></th>\n",
       "      <th></th>\n",
       "    </tr>\n",
       "  </thead>\n",
       "  <tbody>\n",
       "    <tr>\n",
       "      <th>Region Four</th>\n",
       "      <td>5080955</td>\n",
       "      <td>2194080</td>\n",
       "      <td>1017878</td>\n",
       "    </tr>\n",
       "    <tr>\n",
       "      <th>Region One</th>\n",
       "      <td>3457721</td>\n",
       "      <td>1553903</td>\n",
       "      <td>711112</td>\n",
       "    </tr>\n",
       "    <tr>\n",
       "      <th>Region Three</th>\n",
       "      <td>6578963</td>\n",
       "      <td>2836257</td>\n",
       "      <td>1376665</td>\n",
       "    </tr>\n",
       "    <tr>\n",
       "      <th>Region Two</th>\n",
       "      <td>4666947</td>\n",
       "      <td>1990844</td>\n",
       "      <td>939534</td>\n",
       "    </tr>\n",
       "  </tbody>\n",
       "</table>\n",
       "</div>"
      ],
      "text/plain": [
       "age_group     Regular Adult  Senior Citizen  Young Adult\n",
       "region                                                  \n",
       "Region Four         5080955         2194080      1017878\n",
       "Region One          3457721         1553903       711112\n",
       "Region Three        6578963         2836257      1376665\n",
       "Region Two          4666947         1990844       939534"
      ]
     },
     "execution_count": 155,
     "metadata": {},
     "output_type": "execute_result"
    }
   ],
   "source": [
    "age_group_crosstab"
   ]
  },
  {
   "cell_type": "code",
   "execution_count": 156,
   "id": "7fcef86a",
   "metadata": {},
   "outputs": [],
   "source": [
    "age_group_ratio=pd.read_csv(r'/Users/hillelkrief1/Desktop/ratio1.csv',index_col=False)"
   ]
  },
  {
   "cell_type": "code",
   "execution_count": 157,
   "id": "33250f4e",
   "metadata": {},
   "outputs": [
    {
     "data": {
      "text/html": [
       "<div>\n",
       "<style scoped>\n",
       "    .dataframe tbody tr th:only-of-type {\n",
       "        vertical-align: middle;\n",
       "    }\n",
       "\n",
       "    .dataframe tbody tr th {\n",
       "        vertical-align: top;\n",
       "    }\n",
       "\n",
       "    .dataframe thead th {\n",
       "        text-align: right;\n",
       "    }\n",
       "</style>\n",
       "<table border=\"1\" class=\"dataframe\">\n",
       "  <thead>\n",
       "    <tr style=\"text-align: right;\">\n",
       "      <th></th>\n",
       "      <th>spender_flag</th>\n",
       "      <th>High Spender</th>\n",
       "      <th>Low Spender</th>\n",
       "    </tr>\n",
       "  </thead>\n",
       "  <tbody>\n",
       "    <tr>\n",
       "      <th>0</th>\n",
       "      <td>Region Four</td>\n",
       "      <td>96.660420</td>\n",
       "      <td>41.740322</td>\n",
       "    </tr>\n",
       "    <tr>\n",
       "      <th>1</th>\n",
       "      <td>Region One</td>\n",
       "      <td>95.023662</td>\n",
       "      <td>42.703721</td>\n",
       "    </tr>\n",
       "    <tr>\n",
       "      <th>2</th>\n",
       "      <td>Region Three</td>\n",
       "      <td>95.712106</td>\n",
       "      <td>41.262450</td>\n",
       "    </tr>\n",
       "    <tr>\n",
       "      <th>3</th>\n",
       "      <td>Region Two</td>\n",
       "      <td>96.188029</td>\n",
       "      <td>41.032255</td>\n",
       "    </tr>\n",
       "  </tbody>\n",
       "</table>\n",
       "</div>"
      ],
      "text/plain": [
       "   spender_flag  High Spender  Low Spender\n",
       "0   Region Four     96.660420    41.740322\n",
       "1    Region One     95.023662    42.703721\n",
       "2  Region Three     95.712106    41.262450\n",
       "3    Region Two     96.188029    41.032255"
      ]
     },
     "execution_count": 157,
     "metadata": {},
     "output_type": "execute_result"
    }
   ],
   "source": [
    "age_group_ratio"
   ]
  },
  {
   "cell_type": "code",
   "execution_count": 187,
   "id": "ed1b0548",
   "metadata": {},
   "outputs": [],
   "source": [
    "#income across regions\n",
    "income_crosstab = pd.crosstab(insta_data['region'], insta_data['income_level'], dropna = False)"
   ]
  },
  {
   "cell_type": "code",
   "execution_count": 188,
   "id": "b008483d",
   "metadata": {},
   "outputs": [
    {
     "data": {
      "text/html": [
       "<div>\n",
       "<style scoped>\n",
       "    .dataframe tbody tr th:only-of-type {\n",
       "        vertical-align: middle;\n",
       "    }\n",
       "\n",
       "    .dataframe tbody tr th {\n",
       "        vertical-align: top;\n",
       "    }\n",
       "\n",
       "    .dataframe thead th {\n",
       "        text-align: right;\n",
       "    }\n",
       "</style>\n",
       "<table border=\"1\" class=\"dataframe\">\n",
       "  <thead>\n",
       "    <tr style=\"text-align: right;\">\n",
       "      <th>income_level</th>\n",
       "      <th>High-Level Income</th>\n",
       "      <th>Low-Level Income</th>\n",
       "      <th>Mid-Level Income</th>\n",
       "    </tr>\n",
       "    <tr>\n",
       "      <th>region</th>\n",
       "      <th></th>\n",
       "      <th></th>\n",
       "      <th></th>\n",
       "    </tr>\n",
       "  </thead>\n",
       "  <tbody>\n",
       "    <tr>\n",
       "      <th>Region Four</th>\n",
       "      <td>1046633</td>\n",
       "      <td>908969</td>\n",
       "      <td>6337311</td>\n",
       "    </tr>\n",
       "    <tr>\n",
       "      <th>Region One</th>\n",
       "      <td>706788</td>\n",
       "      <td>627256</td>\n",
       "      <td>4388692</td>\n",
       "    </tr>\n",
       "    <tr>\n",
       "      <th>Region Three</th>\n",
       "      <td>1342212</td>\n",
       "      <td>1219460</td>\n",
       "      <td>8230213</td>\n",
       "    </tr>\n",
       "    <tr>\n",
       "      <th>Region Two</th>\n",
       "      <td>955948</td>\n",
       "      <td>838398</td>\n",
       "      <td>5802979</td>\n",
       "    </tr>\n",
       "  </tbody>\n",
       "</table>\n",
       "</div>"
      ],
      "text/plain": [
       "income_level  High-Level Income  Low-Level Income  Mid-Level Income\n",
       "region                                                             \n",
       "Region Four             1046633            908969           6337311\n",
       "Region One               706788            627256           4388692\n",
       "Region Three            1342212           1219460           8230213\n",
       "Region Two               955948            838398           5802979"
      ]
     },
     "execution_count": 188,
     "metadata": {},
     "output_type": "execute_result"
    }
   ],
   "source": [
    "income_crosstab"
   ]
  },
  {
   "cell_type": "code",
   "execution_count": 189,
   "id": "e2850ab6",
   "metadata": {},
   "outputs": [],
   "source": [
    "df_merge = income_crosstab.merge(df_3, on = 'region', indicator = True)"
   ]
  },
  {
   "cell_type": "code",
   "execution_count": 190,
   "id": "0887288f",
   "metadata": {},
   "outputs": [
    {
     "data": {
      "text/html": [
       "<div>\n",
       "<style scoped>\n",
       "    .dataframe tbody tr th:only-of-type {\n",
       "        vertical-align: middle;\n",
       "    }\n",
       "\n",
       "    .dataframe tbody tr th {\n",
       "        vertical-align: top;\n",
       "    }\n",
       "\n",
       "    .dataframe thead th {\n",
       "        text-align: right;\n",
       "    }\n",
       "</style>\n",
       "<table border=\"1\" class=\"dataframe\">\n",
       "  <thead>\n",
       "    <tr style=\"text-align: right;\">\n",
       "      <th></th>\n",
       "      <th>High-Level Income</th>\n",
       "      <th>Low-Level Income</th>\n",
       "      <th>Mid-Level Income</th>\n",
       "      <th>user_id</th>\n",
       "      <th>_merge</th>\n",
       "    </tr>\n",
       "    <tr>\n",
       "      <th>region</th>\n",
       "      <th></th>\n",
       "      <th></th>\n",
       "      <th></th>\n",
       "      <th></th>\n",
       "      <th></th>\n",
       "    </tr>\n",
       "  </thead>\n",
       "  <tbody>\n",
       "    <tr>\n",
       "      <th>Region Four</th>\n",
       "      <td>1046633</td>\n",
       "      <td>908969</td>\n",
       "      <td>6337311</td>\n",
       "      <td>52565</td>\n",
       "      <td>both</td>\n",
       "    </tr>\n",
       "    <tr>\n",
       "      <th>Region One</th>\n",
       "      <td>706788</td>\n",
       "      <td>627256</td>\n",
       "      <td>4388692</td>\n",
       "      <td>36388</td>\n",
       "      <td>both</td>\n",
       "    </tr>\n",
       "    <tr>\n",
       "      <th>Region Three</th>\n",
       "      <td>1342212</td>\n",
       "      <td>1219460</td>\n",
       "      <td>8230213</td>\n",
       "      <td>68737</td>\n",
       "      <td>both</td>\n",
       "    </tr>\n",
       "    <tr>\n",
       "      <th>Region Two</th>\n",
       "      <td>955948</td>\n",
       "      <td>838398</td>\n",
       "      <td>5802979</td>\n",
       "      <td>48519</td>\n",
       "      <td>both</td>\n",
       "    </tr>\n",
       "  </tbody>\n",
       "</table>\n",
       "</div>"
      ],
      "text/plain": [
       "              High-Level Income  Low-Level Income  Mid-Level Income  user_id  \\\n",
       "region                                                                         \n",
       "Region Four             1046633            908969           6337311    52565   \n",
       "Region One               706788            627256           4388692    36388   \n",
       "Region Three            1342212           1219460           8230213    68737   \n",
       "Region Two               955948            838398           5802979    48519   \n",
       "\n",
       "             _merge  \n",
       "region               \n",
       "Region Four    both  \n",
       "Region One     both  \n",
       "Region Three   both  \n",
       "Region Two     both  "
      ]
     },
     "execution_count": 190,
     "metadata": {},
     "output_type": "execute_result"
    }
   ],
   "source": [
    "df_merge"
   ]
  },
  {
   "cell_type": "code",
   "execution_count": 191,
   "id": "9f5459a9",
   "metadata": {},
   "outputs": [],
   "source": [
    "df_merge['High Level Ratio'] = df_merge['High-Level Income']/df_merge['user_id']"
   ]
  },
  {
   "cell_type": "code",
   "execution_count": 192,
   "id": "aead93ff",
   "metadata": {},
   "outputs": [],
   "source": [
    "df_merge['Low Level Ratio'] = df_merge['Low-Level Income']/df_merge['user_id']"
   ]
  },
  {
   "cell_type": "code",
   "execution_count": 193,
   "id": "e5e76c2d",
   "metadata": {},
   "outputs": [],
   "source": [
    "df_merge['Mid Level Ratio'] = df_merge['Mid-Level Income']/df_merge['user_id']"
   ]
  },
  {
   "cell_type": "code",
   "execution_count": 194,
   "id": "03ade675",
   "metadata": {},
   "outputs": [
    {
     "data": {
      "text/html": [
       "<div>\n",
       "<style scoped>\n",
       "    .dataframe tbody tr th:only-of-type {\n",
       "        vertical-align: middle;\n",
       "    }\n",
       "\n",
       "    .dataframe tbody tr th {\n",
       "        vertical-align: top;\n",
       "    }\n",
       "\n",
       "    .dataframe thead th {\n",
       "        text-align: right;\n",
       "    }\n",
       "</style>\n",
       "<table border=\"1\" class=\"dataframe\">\n",
       "  <thead>\n",
       "    <tr style=\"text-align: right;\">\n",
       "      <th></th>\n",
       "      <th>High-Level Income</th>\n",
       "      <th>Low-Level Income</th>\n",
       "      <th>Mid-Level Income</th>\n",
       "      <th>user_id</th>\n",
       "      <th>_merge</th>\n",
       "      <th>High Level Ratio</th>\n",
       "      <th>Low Level Ratio</th>\n",
       "      <th>Mid Level Ratio</th>\n",
       "    </tr>\n",
       "    <tr>\n",
       "      <th>region</th>\n",
       "      <th></th>\n",
       "      <th></th>\n",
       "      <th></th>\n",
       "      <th></th>\n",
       "      <th></th>\n",
       "      <th></th>\n",
       "      <th></th>\n",
       "      <th></th>\n",
       "    </tr>\n",
       "  </thead>\n",
       "  <tbody>\n",
       "    <tr>\n",
       "      <th>Region Four</th>\n",
       "      <td>1046633</td>\n",
       "      <td>908969</td>\n",
       "      <td>6337311</td>\n",
       "      <td>52565</td>\n",
       "      <td>both</td>\n",
       "      <td>19.911215</td>\n",
       "      <td>17.292286</td>\n",
       "      <td>120.561419</td>\n",
       "    </tr>\n",
       "    <tr>\n",
       "      <th>Region One</th>\n",
       "      <td>706788</td>\n",
       "      <td>627256</td>\n",
       "      <td>4388692</td>\n",
       "      <td>36388</td>\n",
       "      <td>both</td>\n",
       "      <td>19.423656</td>\n",
       "      <td>17.237991</td>\n",
       "      <td>120.608222</td>\n",
       "    </tr>\n",
       "    <tr>\n",
       "      <th>Region Three</th>\n",
       "      <td>1342212</td>\n",
       "      <td>1219460</td>\n",
       "      <td>8230213</td>\n",
       "      <td>68737</td>\n",
       "      <td>both</td>\n",
       "      <td>19.526776</td>\n",
       "      <td>17.740955</td>\n",
       "      <td>119.734830</td>\n",
       "    </tr>\n",
       "    <tr>\n",
       "      <th>Region Two</th>\n",
       "      <td>955948</td>\n",
       "      <td>838398</td>\n",
       "      <td>5802979</td>\n",
       "      <td>48519</td>\n",
       "      <td>both</td>\n",
       "      <td>19.702550</td>\n",
       "      <td>17.279787</td>\n",
       "      <td>119.602197</td>\n",
       "    </tr>\n",
       "  </tbody>\n",
       "</table>\n",
       "</div>"
      ],
      "text/plain": [
       "              High-Level Income  Low-Level Income  Mid-Level Income  user_id  \\\n",
       "region                                                                         \n",
       "Region Four             1046633            908969           6337311    52565   \n",
       "Region One               706788            627256           4388692    36388   \n",
       "Region Three            1342212           1219460           8230213    68737   \n",
       "Region Two               955948            838398           5802979    48519   \n",
       "\n",
       "             _merge  High Level Ratio  Low Level Ratio  Mid Level Ratio  \n",
       "region                                                                   \n",
       "Region Four    both         19.911215        17.292286       120.561419  \n",
       "Region One     both         19.423656        17.237991       120.608222  \n",
       "Region Three   both         19.526776        17.740955       119.734830  \n",
       "Region Two     both         19.702550        17.279787       119.602197  "
      ]
     },
     "execution_count": 194,
     "metadata": {},
     "output_type": "execute_result"
    }
   ],
   "source": [
    "df_merge"
   ]
  },
  {
   "cell_type": "code",
   "execution_count": 195,
   "id": "00853398",
   "metadata": {},
   "outputs": [],
   "source": [
    "#again we have the same story, ratio wise everything is pretty similar across the board. Cul numbers wise region three and four are tops consistently"
   ]
  },
  {
   "cell_type": "code",
   "execution_count": 196,
   "id": "efa10608",
   "metadata": {},
   "outputs": [],
   "source": [
    "df_merge.drop('Low-Level Income', axis=1, inplace=True)"
   ]
  },
  {
   "cell_type": "code",
   "execution_count": 197,
   "id": "c3430580",
   "metadata": {},
   "outputs": [],
   "source": [
    "df_merge.drop('High-Level Income', axis=1, inplace=True)"
   ]
  },
  {
   "cell_type": "code",
   "execution_count": 198,
   "id": "b2c3b7b5",
   "metadata": {},
   "outputs": [],
   "source": [
    "df_merge.drop('user_id', axis=1, inplace=True)"
   ]
  },
  {
   "cell_type": "code",
   "execution_count": 199,
   "id": "3c829b33",
   "metadata": {},
   "outputs": [],
   "source": [
    "df_merge.drop('_merge', axis=1, inplace=True)"
   ]
  },
  {
   "cell_type": "code",
   "execution_count": 200,
   "id": "5ac21e42",
   "metadata": {},
   "outputs": [],
   "source": [
    "df_merge.drop('Mid-Level Income', axis=1, inplace=True)"
   ]
  },
  {
   "cell_type": "code",
   "execution_count": 202,
   "id": "fc5ad6fa",
   "metadata": {},
   "outputs": [],
   "source": [
    "income_region=df_merge"
   ]
  },
  {
   "cell_type": "code",
   "execution_count": 208,
   "id": "23922b85",
   "metadata": {},
   "outputs": [
    {
     "data": {
      "text/plain": [
       "Text(0.5, 0, 'Region')"
      ]
     },
     "execution_count": 208,
     "metadata": {},
     "output_type": "execute_result"
    },
    {
     "data": {
      "image/png": "[encoded data removed]",
      "text/plain": [
       "<Figure size 1008x720 with 1 Axes>"
      ]
     },
     "metadata": {
      "needs_background": "light"
     },
     "output_type": "display_data"
    }
   ],
   "source": [
    "income_region_dist=income_region.plot(kind='bar', \n",
    "                        stacked=True, \n",
    "                        color=['seagreen','orange','cornflowerblue'], \n",
    "                        figsize=(14,10))\n",
    "plt.title('Distribution of Incomes by Region', fontsize=25)\n",
    "plt.ylabel('Income')\n",
    "plt.xlabel(\"Region\")"
   ]
  },
  {
   "cell_type": "code",
   "execution_count": 231,
   "id": "defd639e",
   "metadata": {},
   "outputs": [
    {
     "data": {
      "text/plain": [
       "Text(0.5, 0, 'Region')"
      ]
     },
     "execution_count": 231,
     "metadata": {},
     "output_type": "execute_result"
    },
    {
     "data": {
      "image/png": "[encoded data removed]",
      "text/plain": [
       "<Figure size 1008x720 with 1 Axes>"
      ]
     },
     "metadata": {
      "needs_background": "light"
     },
     "output_type": "display_data"
    }
   ],
   "source": [
    "income_spender_dist_ratio=spender_region_ratio.plot(kind='bar', \n",
    "                        stacked=False, \n",
    "                        color=['seagreen','orange','cornflowerblue'], \n",
    "                        figsize=(14,10))\n",
    "plt.title('RATIO of Spender Types by Region', fontsize=25)\n",
    "plt.ylabel('Spenders')\n",
    "plt.xlabel(\"Region\")"
   ]
  },
  {
   "cell_type": "code",
   "execution_count": 219,
   "id": "0d17780a",
   "metadata": {},
   "outputs": [
    {
     "data": {
      "text/plain": [
       "Text(0.5, 0, 'Region')"
      ]
     },
     "execution_count": 219,
     "metadata": {},
     "output_type": "execute_result"
    },
    {
     "data": {
      "image/png": "[encoded data removed]",
      "text/plain": [
       "<Figure size 1008x720 with 1 Axes>"
      ]
     },
     "metadata": {
      "needs_background": "light"
     },
     "output_type": "display_data"
    }
   ],
   "source": [
    "income_spender_dist=sepender_region_crosstab.plot(kind='bar', \n",
    "                        stacked=False, \n",
    "                        color=['seagreen','orange','cornflowerblue'], \n",
    "                        figsize=(14,10))\n",
    "plt.title('Cumulative Distribution of Spender by Region', fontsize=25)\n",
    "plt.ylabel('Spender')\n",
    "plt.xlabel(\"Region\")\n"
   ]
  },
  {
   "cell_type": "code",
   "execution_count": 215,
   "id": "37560642",
   "metadata": {},
   "outputs": [],
   "source": [
    "parents_spenders_crosstab=pd.crosstab(insta_data['parent_status'], insta_data['spender_flag'], dropna = False)"
   ]
  },
  {
   "cell_type": "code",
   "execution_count": 216,
   "id": "2c01a69d",
   "metadata": {},
   "outputs": [
    {
     "data": {
      "text/html": [
       "<div>\n",
       "<style scoped>\n",
       "    .dataframe tbody tr th:only-of-type {\n",
       "        vertical-align: middle;\n",
       "    }\n",
       "\n",
       "    .dataframe tbody tr th {\n",
       "        vertical-align: top;\n",
       "    }\n",
       "\n",
       "    .dataframe thead th {\n",
       "        text-align: right;\n",
       "    }\n",
       "</style>\n",
       "<table border=\"1\" class=\"dataframe\">\n",
       "  <thead>\n",
       "    <tr style=\"text-align: right;\">\n",
       "      <th>spender_flag</th>\n",
       "      <th>High Spender</th>\n",
       "      <th>Low Spender</th>\n",
       "    </tr>\n",
       "    <tr>\n",
       "      <th>parent_status</th>\n",
       "      <th></th>\n",
       "      <th></th>\n",
       "    </tr>\n",
       "  </thead>\n",
       "  <tbody>\n",
       "    <tr>\n",
       "      <th>Are Not Parents</th>\n",
       "      <td>23872513</td>\n",
       "      <td>434843</td>\n",
       "    </tr>\n",
       "    <tr>\n",
       "      <th>Are Parents</th>\n",
       "      <td>7955849</td>\n",
       "      <td>141654</td>\n",
       "    </tr>\n",
       "  </tbody>\n",
       "</table>\n",
       "</div>"
      ],
      "text/plain": [
       "spender_flag     High Spender  Low Spender\n",
       "parent_status                             \n",
       "Are Not Parents      23872513       434843\n",
       "Are Parents           7955849       141654"
      ]
     },
     "execution_count": 216,
     "metadata": {},
     "output_type": "execute_result"
    }
   ],
   "source": [
    "parents_spenders_crosstab"
   ]
  },
  {
   "cell_type": "code",
   "execution_count": 240,
   "id": "730d6cd3",
   "metadata": {},
   "outputs": [
    {
     "data": {
      "text/plain": [
       "Text(0.5, 0, 'Region')"
      ]
     },
     "execution_count": 240,
     "metadata": {},
     "output_type": "execute_result"
    },
    {
     "data": {
      "image/png": "[encoded data removed]",
      "text/plain": [
       "<Figure size 1008x720 with 1 Axes>"
      ]
     },
     "metadata": {
      "needs_background": "light"
     },
     "output_type": "display_data"
    }
   ],
   "source": [
    "parents_spender_distribution=sepender_region_crosstab.plot(kind='bar', \n",
    "                        stacked=False, \n",
    "                        color=['seagreen','orange','cornflowerblue'], \n",
    "                        figsize=(14,10))\n",
    "plt.title('Cumulative Distribution of Spender by Parent Status', fontsize=25)\n",
    "plt.ylabel('Parents')\n",
    "plt.xlabel(\"Region\")\n"
   ]
  },
  {
   "cell_type": "code",
   "execution_count": 241,
   "id": "8435a058",
   "metadata": {},
   "outputs": [
    {
     "data": {
      "text/plain": [
       "Text(0.5, 0, 'Age Group')"
      ]
     },
     "execution_count": 241,
     "metadata": {},
     "output_type": "execute_result"
    },
    {
     "data": {
      "image/png": "[encoded data removed]",
      "text/plain": [
       "<Figure size 1008x720 with 1 Axes>"
      ]
     },
     "metadata": {
      "needs_background": "light"
     },
     "output_type": "display_data"
    }
   ],
   "source": [
    "age_spender_distribution=age_group_crosstab.plot(kind='bar', \n",
    "                        stacked=False, \n",
    "                        color=['seagreen','orange','cornflowerblue'], \n",
    "                        figsize=(14,10))\n",
    "plt.title('Cumulative Distribution of Spender by Age Group', fontsize=25)\n",
    "plt.ylabel('Spender')\n",
    "plt.xlabel(\"Age Group\")\n"
   ]
  },
  {
   "cell_type": "code",
   "execution_count": 224,
   "id": "d0547655",
   "metadata": {},
   "outputs": [
    {
     "data": {
      "text/plain": [
       "Text(0, 0.5, 'Number of Customers(Billions)')"
      ]
     },
     "execution_count": 224,
     "metadata": {},
     "output_type": "execute_result"
    },
    {
     "data": {
      "image/png": "[encoded data removed]",
      "text/plain": [
       "<Figure size 432x288 with 1 Axes>"
      ]
     },
     "metadata": {
      "needs_background": "light"
     },
     "output_type": "display_data"
    }
   ],
   "source": [
    "#Visualization of the different regions, one being one billion\n",
    "region_viz=insta_data['region'].value_counts().plot.bar(50)\n",
    "plt.title('Distribution of Region')\n",
    "plt.xlabel('Region')\n",
    "plt.ylabel('Number of Customers(Billions)')"
   ]
  },
  {
   "cell_type": "code",
   "execution_count": 225,
   "id": "5300edd4",
   "metadata": {},
   "outputs": [
    {
     "data": {
      "text/plain": [
       "Text(0, 0.5, 'Number of Orders(Billions)')"
      ]
     },
     "execution_count": 225,
     "metadata": {},
     "output_type": "execute_result"
    },
    {
     "data": {
      "image/png": "[encoded data removed]",
      "text/plain": [
       "<Figure size 432x288 with 1 Axes>"
      ]
     },
     "metadata": {
      "needs_background": "light"
     },
     "output_type": "display_data"
    }
   ],
   "source": [
    "#Visualizations of the different spending habits, seemingly, those who buy from us do not stop buying. Which means our customer retention is very high\n",
    "spending_viz=insta_data['spender_flag'].value_counts().plot.bar()\n",
    "plt.title('Distribution of Spending')\n",
    "plt.xlabel('Spender')\n",
    "plt.ylabel('Number of Orders(Billions)')"
   ]
  },
  {
   "cell_type": "code",
   "execution_count": 226,
   "id": "2992983e",
   "metadata": {},
   "outputs": [
    {
     "data": {
      "text/plain": [
       "Text(0, 0.5, 'Number of Customters(Billions)')"
      ]
     },
     "execution_count": 226,
     "metadata": {},
     "output_type": "execute_result"
    },
    {
     "data": {
      "image/png": "[encoded data removed]",
      "text/plain": [
       "<Figure size 432x288 with 1 Axes>"
      ]
     },
     "metadata": {
      "needs_background": "light"
     },
     "output_type": "display_data"
    }
   ],
   "source": [
    "#Age group profile visualizations\n",
    "age_group_viz=insta_data['age_group'].value_counts().plot.bar()\n",
    "plt.title('Distribution of Age Group')\n",
    "plt.xlabel('Age Group')\n",
    "plt.ylabel('Number of Customters(Billions)')"
   ]
  },
  {
   "cell_type": "code",
   "execution_count": 227,
   "id": "b137e7d9",
   "metadata": {},
   "outputs": [
    {
     "data": {
      "text/plain": [
       "Text(0, 0.5, 'Number of Customers(Billions)')"
      ]
     },
     "execution_count": 227,
     "metadata": {},
     "output_type": "execute_result"
    },
    {
     "data": {
      "image/png": "[encoded data removed]",
      "text/plain": [
       "<Figure size 432x288 with 1 Axes>"
      ]
     },
     "metadata": {
      "needs_background": "light"
     },
     "output_type": "display_data"
    }
   ],
   "source": [
    "#Income level Profile visualizations\n",
    "income_viz=insta_data['income_level'].value_counts().plot.bar()\n",
    "plt.title('Distribution of Income')\n",
    "plt.xlabel('Income')\n",
    "plt.ylabel('Number of Customers(Billions)')"
   ]
  },
  {
   "cell_type": "code",
   "execution_count": 228,
   "id": "5f5f8b22",
   "metadata": {},
   "outputs": [],
   "source": [
    "income_region_dist.figure.savefig(r'/Users/hillelkrief1/Desktop/CareerFoundry/Course 2 Data Immersion/Achievement 4/Instacart Basket Analysis 08-2022/04 Analysis/Visualizations/income_by_region.png')\n"
   ]
  },
  {
   "cell_type": "code",
   "execution_count": 234,
   "id": "4e82c8e0",
   "metadata": {},
   "outputs": [],
   "source": [
    "income_spender_dist_ratio.figure.savefig(r'/Users/hillelkrief1/Desktop/CareerFoundry/Course 2 Data Immersion/Achievement 4/Instacart Basket Analysis 08-2022/04 Analysis/Visualizations/region_by_spender_ratio.png')\n"
   ]
  },
  {
   "cell_type": "code",
   "execution_count": 235,
   "id": "35c15258",
   "metadata": {},
   "outputs": [],
   "source": [
    "income_spender_dist.figure.savefig(r'/Users/hillelkrief1/Desktop/CareerFoundry/Course 2 Data Immersion/Achievement 4/Instacart Basket Analysis 08-2022/04 Analysis/Visualizations/region_by_spender_cumulative.png')\n"
   ]
  },
  {
   "cell_type": "code",
   "execution_count": 243,
   "id": "15b71ddd",
   "metadata": {},
   "outputs": [],
   "source": [
    "parents_spender_distribution.figure.savefig(r'/Users/hillelkrief1/Desktop/CareerFoundry/Course 2 Data Immersion/Achievement 4/Instacart Basket Analysis 08-2022/04 Analysis/Visualizations/parents_spend.png')\n"
   ]
  },
  {
   "cell_type": "code",
   "execution_count": 245,
   "id": "af9d060a",
   "metadata": {},
   "outputs": [],
   "source": [
    "age_spender_distribution.figure.savefig(r'/Users/hillelkrief1/Desktop/CareerFoundry/Course 2 Data Immersion/Achievement 4/Instacart Basket Analysis 08-2022/04 Analysis/Visualizations/parents_spend.png')\n"
   ]
  },
  {
   "cell_type": "code",
   "execution_count": 247,
   "id": "be021b1c",
   "metadata": {},
   "outputs": [],
   "source": [
    "region_viz.figure.savefig(r'/Users/hillelkrief1/Desktop/CareerFoundry/Course 2 Data Immersion/Achievement 4/Instacart Basket Analysis 08-2022/04 Analysis/Visualizations/region.png')"
   ]
  },
  {
   "cell_type": "code",
   "execution_count": 248,
   "id": "4aac6686",
   "metadata": {},
   "outputs": [],
   "source": [
    "spending_viz.figure.savefig(r'/Users/hillelkrief1/Desktop/CareerFoundry/Course 2 Data Immersion/Achievement 4/Instacart Basket Analysis 08-2022/04 Analysis/Visualizations/spending.png')"
   ]
  },
  {
   "cell_type": "code",
   "execution_count": 249,
   "id": "bf7566b2",
   "metadata": {},
   "outputs": [],
   "source": [
    "age_group_viz.figure.savefig(r'/Users/hillelkrief1/Desktop/CareerFoundry/Course 2 Data Immersion/Achievement 4/Instacart Basket Analysis 08-2022/04 Analysis/Visualizations/age_group.png')\n"
   ]
  },
  {
   "cell_type": "code",
   "execution_count": 250,
   "id": "fda95e49",
   "metadata": {},
   "outputs": [],
   "source": [
    "income_viz.figure.savefig(r'/Users/hillelkrief1/Desktop/CareerFoundry/Course 2 Data Immersion/Achievement 4/Instacart Basket Analysis 08-2022/04 Analysis/Visualizations/income.png')"
   ]
  },
  {
   "cell_type": "code",
   "execution_count": 253,
   "id": "53919f0f",
   "metadata": {},
   "outputs": [
    {
     "data": {
      "text/plain": [
       "Text(0, 0.5, 'Number of Customers(Billions)')"
      ]
     },
     "execution_count": 253,
     "metadata": {},
     "output_type": "execute_result"
    },
    {
     "data": {
      "image/png": "[encoded data removed]",
      "text/plain": [
       "<Figure size 432x288 with 1 Axes>"
      ]
     },
     "metadata": {
      "needs_background": "light"
     },
     "output_type": "display_data"
    }
   ],
   "source": [
    "orders_dow=insta_data['order_dow'].value_counts().plot.bar()\n",
    "plt.title('Days of Week')\n",
    "plt.xlabel('Days of Week')\n",
    "plt.ylabel('Number of Customers(Billions)')"
   ]
  },
  {
   "cell_type": "code",
   "execution_count": 254,
   "id": "2afdc32a",
   "metadata": {},
   "outputs": [],
   "source": [
    "orders_dow.figure.savefig(r'/Users/hillelkrief1/Desktop/CareerFoundry/Course 2 Data Immersion/Achievement 4/Instacart Basket Analysis 08-2022/04 Analysis/Visualizations/orders_dow.png')\n"
   ]
  },
  {
   "cell_type": "code",
   "execution_count": 255,
   "id": "ad7f74fb",
   "metadata": {},
   "outputs": [
    {
     "data": {
      "text/plain": [
       "Are Not Parents    24307356\n",
       "Are Parents         8097503\n",
       "Name: parent_status, dtype: int64"
      ]
     },
     "execution_count": 255,
     "metadata": {},
     "output_type": "execute_result"
    }
   ],
   "source": [
    "insta_data['parent_status'].value_counts(dropna=False)"
   ]
  },
  {
   "cell_type": "code",
   "execution_count": 258,
   "id": "525186b3",
   "metadata": {},
   "outputs": [],
   "source": [
    "region_parents_ct = pd.crosstab(insta_data['region'], insta_data['parent_status'], dropna = False)\n"
   ]
  },
  {
   "cell_type": "code",
   "execution_count": 260,
   "id": "cf271454",
   "metadata": {},
   "outputs": [
    {
     "data": {
      "text/plain": [
       "Text(0, 0.5, 'Parents')"
      ]
     },
     "execution_count": 260,
     "metadata": {},
     "output_type": "execute_result"
    },
    {
     "data": {
      "image/png": "[encoded data removed]",
      "text/plain": [
       "<Figure size 432x288 with 1 Axes>"
      ]
     },
     "metadata": {
      "needs_background": "light"
     },
     "output_type": "display_data"
    }
   ],
   "source": [
    "region_parents_viz=region_parents_ct.plot.bar()\n",
    "plt.title('Parents by Region')\n",
    "plt.xlabel('Region')\n",
    "plt.ylabel('Parents')"
   ]
  },
  {
   "cell_type": "code",
   "execution_count": 263,
   "id": "1ddef767",
   "metadata": {},
   "outputs": [],
   "source": [
    "region_parents_viz.figure.savefig(r'/Users/hillelkrief1/Desktop/CareerFoundry/Course 2 Data Immersion/Achievement 4/Instacart Basket Analysis 08-2022/04 Analysis/Visualizations/parents_region.png')\n"
   ]
  },
  {
   "cell_type": "code",
   "execution_count": null,
   "id": "b276064c",
   "metadata": {},
   "outputs": [],
   "source": []
  }
 ],
 "metadata": {
  "kernelspec": {
   "display_name": "Python 3 (ipykernel)",
   "language": "python",
   "name": "python3"
  },
  "language_info": {
   "codemirror_mode": {
    "name": "ipython",
    "version": 3
   },
   "file_extension": ".py",
   "mimetype": "text/x-python",
   "name": "python",
   "nbconvert_exporter": "python",
   "pygments_lexer": "ipython3",
   "version": "3.9.12"
  }
 },
 "nbformat": 4,
 "nbformat_minor": 5
}
