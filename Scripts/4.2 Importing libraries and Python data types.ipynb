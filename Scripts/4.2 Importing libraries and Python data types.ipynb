{
 "cells": [
  {
   "cell_type": "markdown",
   "id": "9d3e4137",
   "metadata": {},
   "source": [
    "#Table of contents\n",
    "#01. Importing libraries and data types"
   ]
  },
  {
   "cell_type": "code",
   "execution_count": 1,
   "id": "72a6d69c",
   "metadata": {},
   "outputs": [],
   "source": [
    "# Import Libraries\n",
    "import pandas as pd\n",
    "import numpy as np\n",
    "import os\n"
   ]
  },
  {
   "cell_type": "code",
   "execution_count": 2,
   "id": "68383268",
   "metadata": {},
   "outputs": [],
   "source": [
    "# Data Types\n",
    "x=2"
   ]
  },
  {
   "cell_type": "code",
   "execution_count": 3,
   "id": "a0ef9192",
   "metadata": {},
   "outputs": [
    {
     "data": {
      "text/plain": [
       "2"
      ]
     },
     "execution_count": 3,
     "metadata": {},
     "output_type": "execute_result"
    }
   ],
   "source": [
    "x"
   ]
  },
  {
   "cell_type": "code",
   "execution_count": 5,
   "id": "582df495",
   "metadata": {},
   "outputs": [
    {
     "name": "stdout",
     "output_type": "stream",
     "text": [
      "2\n"
     ]
    }
   ],
   "source": [
    "print(x)"
   ]
  },
  {
   "cell_type": "code",
   "execution_count": 6,
   "id": "e00ba089",
   "metadata": {},
   "outputs": [
    {
     "data": {
      "text/plain": [
       "int"
      ]
     },
     "execution_count": 6,
     "metadata": {},
     "output_type": "execute_result"
    }
   ],
   "source": [
    "type(6)"
   ]
  },
  {
   "cell_type": "code",
   "execution_count": 7,
   "id": "6f8f0856",
   "metadata": {},
   "outputs": [],
   "source": [
    "y=5.678"
   ]
  },
  {
   "cell_type": "code",
   "execution_count": 8,
   "id": "4d729cec",
   "metadata": {},
   "outputs": [
    {
     "data": {
      "text/plain": [
       "float"
      ]
     },
     "execution_count": 8,
     "metadata": {},
     "output_type": "execute_result"
    }
   ],
   "source": [
    "type(y)"
   ]
  },
  {
   "cell_type": "code",
   "execution_count": 9,
   "id": "796e7ddf",
   "metadata": {},
   "outputs": [],
   "source": [
    "z='Brazil'"
   ]
  },
  {
   "cell_type": "code",
   "execution_count": 10,
   "id": "678c8b09",
   "metadata": {},
   "outputs": [
    {
     "data": {
      "text/plain": [
       "str"
      ]
     },
     "execution_count": 10,
     "metadata": {},
     "output_type": "execute_result"
    }
   ],
   "source": [
    "type(z)"
   ]
  },
  {
   "cell_type": "code",
   "execution_count": 11,
   "id": "0b0a2830",
   "metadata": {},
   "outputs": [
    {
     "data": {
      "text/plain": [
       "str"
      ]
     },
     "execution_count": 11,
     "metadata": {},
     "output_type": "execute_result"
    }
   ],
   "source": [
    "type('Mania')"
   ]
  },
  {
   "cell_type": "code",
   "execution_count": 13,
   "id": "9a8a43ab",
   "metadata": {},
   "outputs": [
    {
     "data": {
      "text/plain": [
       "bool"
      ]
     },
     "execution_count": 13,
     "metadata": {},
     "output_type": "execute_result"
    }
   ],
   "source": [
    "type(True)"
   ]
  },
  {
   "cell_type": "code",
   "execution_count": 14,
   "id": "50089ac8",
   "metadata": {},
   "outputs": [
    {
     "data": {
      "text/plain": [
       "bool"
      ]
     },
     "execution_count": 14,
     "metadata": {},
     "output_type": "execute_result"
    }
   ],
   "source": [
    "type(False)"
   ]
  },
  {
   "cell_type": "code",
   "execution_count": 15,
   "id": "4e03cc31",
   "metadata": {},
   "outputs": [
    {
     "name": "stdout",
     "output_type": "stream",
     "text": [
      "2\n"
     ]
    }
   ],
   "source": [
    "print(x)"
   ]
  },
  {
   "cell_type": "code",
   "execution_count": 16,
   "id": "26ef994b",
   "metadata": {},
   "outputs": [
    {
     "name": "stdout",
     "output_type": "stream",
     "text": [
      "6\n"
     ]
    }
   ],
   "source": [
    "print(x+4)"
   ]
  },
  {
   "cell_type": "code",
   "execution_count": 17,
   "id": "0e40befb",
   "metadata": {},
   "outputs": [
    {
     "data": {
      "text/plain": [
       "7.678"
      ]
     },
     "execution_count": 17,
     "metadata": {},
     "output_type": "execute_result"
    }
   ],
   "source": [
    "x+y"
   ]
  },
  {
   "cell_type": "code",
   "execution_count": 19,
   "id": "7936f76d",
   "metadata": {},
   "outputs": [],
   "source": [
    "x=x+4"
   ]
  },
  {
   "cell_type": "code",
   "execution_count": 20,
   "id": "e8581a19",
   "metadata": {},
   "outputs": [
    {
     "name": "stdout",
     "output_type": "stream",
     "text": [
      "6\n"
     ]
    }
   ],
   "source": [
    "print(x)"
   ]
  },
  {
   "cell_type": "code",
   "execution_count": 24,
   "id": "46a4be34",
   "metadata": {},
   "outputs": [],
   "source": [
    "a='Hello '\n",
    "\n"
   ]
  },
  {
   "cell_type": "code",
   "execution_count": 22,
   "id": "d2aaf72d",
   "metadata": {},
   "outputs": [],
   "source": [
    "b='Marley'\n",
    "\n"
   ]
  },
  {
   "cell_type": "code",
   "execution_count": 25,
   "id": "e08e326d",
   "metadata": {},
   "outputs": [
    {
     "data": {
      "text/plain": [
       "'Hello Marley'"
      ]
     },
     "execution_count": 25,
     "metadata": {},
     "output_type": "execute_result"
    }
   ],
   "source": [
    "a+b\n",
    "\n",
    "\n",
    "\n"
   ]
  },
  {
   "cell_type": "code",
   "execution_count": 26,
   "id": "8d66037b",
   "metadata": {},
   "outputs": [],
   "source": [
    "n='potato'"
   ]
  },
  {
   "cell_type": "code",
   "execution_count": 27,
   "id": "02316a0e",
   "metadata": {},
   "outputs": [
    {
     "data": {
      "text/plain": [
       "'potatopotatopotatopotatopotatopotatopotatopotatopotatopotatopotatopotato'"
      ]
     },
     "execution_count": 27,
     "metadata": {},
     "output_type": "execute_result"
    }
   ],
   "source": [
    "n*12"
   ]
  },
  {
   "cell_type": "code",
   "execution_count": 29,
   "id": "85a4b496",
   "metadata": {},
   "outputs": [
    {
     "data": {
      "text/plain": [
       "False"
      ]
     },
     "execution_count": 29,
     "metadata": {},
     "output_type": "execute_result"
    }
   ],
   "source": [
    "x==y"
   ]
  },
  {
   "cell_type": "code",
   "execution_count": 30,
   "id": "86c4e2bb",
   "metadata": {},
   "outputs": [
    {
     "data": {
      "text/plain": [
       "bool"
      ]
     },
     "execution_count": 30,
     "metadata": {},
     "output_type": "execute_result"
    }
   ],
   "source": [
    "type(x==y)"
   ]
  },
  {
   "cell_type": "code",
   "execution_count": 31,
   "id": "d1accc54",
   "metadata": {},
   "outputs": [
    {
     "data": {
      "text/plain": [
       "100"
      ]
     },
     "execution_count": 31,
     "metadata": {},
     "output_type": "execute_result"
    }
   ],
   "source": [
    "99+1"
   ]
  },
  {
   "cell_type": "code",
   "execution_count": 32,
   "id": "b5e6410d",
   "metadata": {},
   "outputs": [
    {
     "data": {
      "text/plain": [
       "100"
      ]
     },
     "execution_count": 32,
     "metadata": {},
     "output_type": "execute_result"
    }
   ],
   "source": [
    "86+14\n",
    "120-20"
   ]
  },
  {
   "cell_type": "code",
   "execution_count": 33,
   "id": "eaaa291f",
   "metadata": {},
   "outputs": [
    {
     "data": {
      "text/plain": [
       "100"
      ]
     },
     "execution_count": 33,
     "metadata": {},
     "output_type": "execute_result"
    }
   ],
   "source": [
    "12+88\n"
   ]
  },
  {
   "cell_type": "code",
   "execution_count": 34,
   "id": "3e758701",
   "metadata": {},
   "outputs": [],
   "source": [
    "e=2.22\n"
   ]
  },
  {
   "cell_type": "code",
   "execution_count": 35,
   "id": "4fd73a8b",
   "metadata": {},
   "outputs": [],
   "source": [
    "f=3.33\n"
   ]
  },
  {
   "cell_type": "code",
   "execution_count": 36,
   "id": "29e6398e",
   "metadata": {},
   "outputs": [
    {
     "data": {
      "text/plain": [
       "5.550000000000001"
      ]
     },
     "execution_count": 36,
     "metadata": {},
     "output_type": "execute_result"
    }
   ],
   "source": [
    "e+f"
   ]
  },
  {
   "cell_type": "code",
   "execution_count": 38,
   "id": "e905f868",
   "metadata": {},
   "outputs": [],
   "source": [
    "g='roc'"
   ]
  },
  {
   "cell_type": "code",
   "execution_count": 39,
   "id": "d5c92053",
   "metadata": {},
   "outputs": [],
   "source": [
    "h='ks'"
   ]
  },
  {
   "cell_type": "code",
   "execution_count": 40,
   "id": "cf4b3fd5",
   "metadata": {},
   "outputs": [
    {
     "data": {
      "text/plain": [
       "'rocks'"
      ]
     },
     "execution_count": 40,
     "metadata": {},
     "output_type": "execute_result"
    }
   ],
   "source": [
    "g+h"
   ]
  },
  {
   "cell_type": "code",
   "execution_count": 41,
   "id": "69c05f39",
   "metadata": {},
   "outputs": [],
   "source": [
    "i='Entry level jobs '"
   ]
  },
  {
   "cell_type": "code",
   "execution_count": 42,
   "id": "888495ec",
   "metadata": {},
   "outputs": [],
   "source": [
    "j='are not actually entry level because you need experience'"
   ]
  },
  {
   "cell_type": "code",
   "execution_count": 43,
   "id": "014e0eeb",
   "metadata": {},
   "outputs": [
    {
     "data": {
      "text/plain": [
       "'Entry level jobs are not actually entry level because you need experience'"
      ]
     },
     "execution_count": 43,
     "metadata": {},
     "output_type": "execute_result"
    }
   ],
   "source": [
    "i+j"
   ]
  },
  {
   "cell_type": "code",
   "execution_count": 44,
   "id": "889e90c3",
   "metadata": {},
   "outputs": [],
   "source": [
    "k=\"laptop\""
   ]
  },
  {
   "cell_type": "code",
   "execution_count": 45,
   "id": "0e7b39a3",
   "metadata": {},
   "outputs": [
    {
     "data": {
      "text/plain": [
       "'laptoplaptoplaptoplaptoplaptoplaptoplaptoplaptoplaptoplaptoplaptoplaptoplaptoplaptoplaptoplaptoplaptoplaptoplaptoplaptoplaptoplaptoplaptoplaptoplaptoplaptoplaptoplaptoplaptoplaptoplaptoplaptoplaptoplaptoplaptoplaptoplaptoplaptoplaptoplaptoplaptoplaptoplaptoplaptoplaptoplaptoplaptoplaptoplaptoplaptoplaptoplaptoplaptoplaptoplaptoplaptoplaptoplaptoplaptoplaptoplaptoplaptoplaptoplaptoplaptoplaptoplaptoplaptoplaptoplaptoplaptoplaptoplaptoplaptoplaptoplaptoplaptoplaptoplaptoplaptoplaptoplaptoplaptoplaptoplaptoplaptoplaptoplaptoplaptoplaptoplaptoplaptoplaptoplaptoplaptoplaptoplaptoplaptoplaptoplaptop'"
      ]
     },
     "execution_count": 45,
     "metadata": {},
     "output_type": "execute_result"
    }
   ],
   "source": [
    "k*100"
   ]
  },
  {
   "cell_type": "code",
   "execution_count": null,
   "id": "dd19c31b",
   "metadata": {},
   "outputs": [],
   "source": []
  }
 ],
 "metadata": {
  "kernelspec": {
   "display_name": "Python 3 (ipykernel)",
   "language": "python",
   "name": "python3"
  },
  "language_info": {
   "codemirror_mode": {
    "name": "ipython",
    "version": 3
   },
   "file_extension": ".py",
   "mimetype": "text/x-python",
   "name": "python",
   "nbconvert_exporter": "python",
   "pygments_lexer": "ipython3",
   "version": "3.9.12"
  }
 },
 "nbformat": 4,
 "nbformat_minor": 5
}
